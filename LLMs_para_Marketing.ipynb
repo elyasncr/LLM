{
  "nbformat": 4,
  "nbformat_minor": 0,
  "metadata": {
    "colab": {
      "provenance": [],
      "authorship_tag": "ABX9TyP0MMGiXhKKhl20SaYJ2IYE",
      "include_colab_link": true
    },
    "kernelspec": {
      "name": "python3",
      "display_name": "Python 3"
    },
    "language_info": {
      "name": "python"
    },
    "widgets": {
      "application/vnd.jupyter.widget-state+json": {
        "11ffac09ed78463d84953a43acf51bb1": {
          "model_module": "@jupyter-widgets/controls",
          "model_name": "TextModel",
          "model_module_version": "1.5.0",
          "state": {
            "_dom_classes": [],
            "_model_module": "@jupyter-widgets/controls",
            "_model_module_version": "1.5.0",
            "_model_name": "TextModel",
            "_view_count": null,
            "_view_module": "@jupyter-widgets/controls",
            "_view_module_version": "1.5.0",
            "_view_name": "TextView",
            "continuous_update": true,
            "description": "Tema:",
            "description_tooltip": null,
            "disabled": false,
            "layout": "IPY_MODEL_954704862f78406fbb100d09fdc23bbe",
            "placeholder": "Ex: saúde mental, alimentação saudável, prevenção, etc.",
            "style": "IPY_MODEL_90d08658f9244684bc0008933ae5aff6",
            "value": ""
          }
        },
        "954704862f78406fbb100d09fdc23bbe": {
          "model_module": "@jupyter-widgets/base",
          "model_name": "LayoutModel",
          "model_module_version": "1.2.0",
          "state": {
            "_model_module": "@jupyter-widgets/base",
            "_model_module_version": "1.2.0",
            "_model_name": "LayoutModel",
            "_view_count": null,
            "_view_module": "@jupyter-widgets/base",
            "_view_module_version": "1.2.0",
            "_view_name": "LayoutView",
            "align_content": null,
            "align_items": null,
            "align_self": null,
            "border": null,
            "bottom": null,
            "display": null,
            "flex": null,
            "flex_flow": null,
            "grid_area": null,
            "grid_auto_columns": null,
            "grid_auto_flow": null,
            "grid_auto_rows": null,
            "grid_column": null,
            "grid_gap": null,
            "grid_row": null,
            "grid_template_areas": null,
            "grid_template_columns": null,
            "grid_template_rows": null,
            "height": null,
            "justify_content": null,
            "justify_items": null,
            "left": null,
            "margin": null,
            "max_height": null,
            "max_width": null,
            "min_height": null,
            "min_width": null,
            "object_fit": null,
            "object_position": null,
            "order": null,
            "overflow": null,
            "overflow_x": null,
            "overflow_y": null,
            "padding": null,
            "right": null,
            "top": null,
            "visibility": null,
            "width": null
          }
        },
        "90d08658f9244684bc0008933ae5aff6": {
          "model_module": "@jupyter-widgets/controls",
          "model_name": "DescriptionStyleModel",
          "model_module_version": "1.5.0",
          "state": {
            "_model_module": "@jupyter-widgets/controls",
            "_model_module_version": "1.5.0",
            "_model_name": "DescriptionStyleModel",
            "_view_count": null,
            "_view_module": "@jupyter-widgets/base",
            "_view_module_version": "1.2.0",
            "_view_name": "StyleView",
            "description_width": ""
          }
        },
        "64bf7b86552b4e44be8980b8e3ae8d6e": {
          "model_module": "@jupyter-widgets/controls",
          "model_name": "TextModel",
          "model_module_version": "1.5.0",
          "state": {
            "_dom_classes": [],
            "_model_module": "@jupyter-widgets/controls",
            "_model_module_version": "1.5.0",
            "_model_name": "TextModel",
            "_view_count": null,
            "_view_module": "@jupyter-widgets/controls",
            "_view_module_version": "1.5.0",
            "_view_name": "TextView",
            "continuous_update": true,
            "description": "Tema:",
            "description_tooltip": null,
            "disabled": false,
            "layout": "IPY_MODEL_0f0fe47aae7c42b5a43f73c741a08bfb",
            "placeholder": "Ex: saúde mental, alimentação saudável, prevenção, etc.",
            "style": "IPY_MODEL_8b796770b37c45048f0ac8bbdcf88766",
            "value": ""
          }
        },
        "0f0fe47aae7c42b5a43f73c741a08bfb": {
          "model_module": "@jupyter-widgets/base",
          "model_name": "LayoutModel",
          "model_module_version": "1.2.0",
          "state": {
            "_model_module": "@jupyter-widgets/base",
            "_model_module_version": "1.2.0",
            "_model_name": "LayoutModel",
            "_view_count": null,
            "_view_module": "@jupyter-widgets/base",
            "_view_module_version": "1.2.0",
            "_view_name": "LayoutView",
            "align_content": null,
            "align_items": null,
            "align_self": null,
            "border": null,
            "bottom": null,
            "display": null,
            "flex": null,
            "flex_flow": null,
            "grid_area": null,
            "grid_auto_columns": null,
            "grid_auto_flow": null,
            "grid_auto_rows": null,
            "grid_column": null,
            "grid_gap": null,
            "grid_row": null,
            "grid_template_areas": null,
            "grid_template_columns": null,
            "grid_template_rows": null,
            "height": null,
            "justify_content": null,
            "justify_items": null,
            "left": null,
            "margin": null,
            "max_height": null,
            "max_width": null,
            "min_height": null,
            "min_width": null,
            "object_fit": null,
            "object_position": null,
            "order": null,
            "overflow": null,
            "overflow_x": null,
            "overflow_y": null,
            "padding": null,
            "right": null,
            "top": null,
            "visibility": null,
            "width": "500px"
          }
        },
        "8b796770b37c45048f0ac8bbdcf88766": {
          "model_module": "@jupyter-widgets/controls",
          "model_name": "DescriptionStyleModel",
          "model_module_version": "1.5.0",
          "state": {
            "_model_module": "@jupyter-widgets/controls",
            "_model_module_version": "1.5.0",
            "_model_name": "DescriptionStyleModel",
            "_view_count": null,
            "_view_module": "@jupyter-widgets/base",
            "_view_module_version": "1.2.0",
            "_view_name": "StyleView",
            "description_width": ""
          }
        },
        "f241da1f84f04f6ebbed00e38602c5c7": {
          "model_module": "@jupyter-widgets/controls",
          "model_name": "DropdownModel",
          "model_module_version": "1.5.0",
          "state": {
            "_dom_classes": [],
            "_model_module": "@jupyter-widgets/controls",
            "_model_module_version": "1.5.0",
            "_model_name": "DropdownModel",
            "_options_labels": [
              "Blog",
              "E-mail",
              "LinkedIn",
              "Instagram",
              "Facebook"
            ],
            "_view_count": null,
            "_view_module": "@jupyter-widgets/controls",
            "_view_module_version": "1.5.0",
            "_view_name": "DropdownView",
            "description": "Plataforma",
            "description_tooltip": null,
            "disabled": false,
            "index": 0,
            "layout": "IPY_MODEL_20fc2f17f1aa481b98b11ebf1de74df7",
            "style": "IPY_MODEL_53d616c27e424434bc84eb67806c7d02"
          }
        },
        "20fc2f17f1aa481b98b11ebf1de74df7": {
          "model_module": "@jupyter-widgets/base",
          "model_name": "LayoutModel",
          "model_module_version": "1.2.0",
          "state": {
            "_model_module": "@jupyter-widgets/base",
            "_model_module_version": "1.2.0",
            "_model_name": "LayoutModel",
            "_view_count": null,
            "_view_module": "@jupyter-widgets/base",
            "_view_module_version": "1.2.0",
            "_view_name": "LayoutView",
            "align_content": null,
            "align_items": null,
            "align_self": null,
            "border": null,
            "bottom": null,
            "display": null,
            "flex": null,
            "flex_flow": null,
            "grid_area": null,
            "grid_auto_columns": null,
            "grid_auto_flow": null,
            "grid_auto_rows": null,
            "grid_column": null,
            "grid_gap": null,
            "grid_row": null,
            "grid_template_areas": null,
            "grid_template_columns": null,
            "grid_template_rows": null,
            "height": null,
            "justify_content": null,
            "justify_items": null,
            "left": null,
            "margin": null,
            "max_height": null,
            "max_width": null,
            "min_height": null,
            "min_width": null,
            "object_fit": null,
            "object_position": null,
            "order": null,
            "overflow": null,
            "overflow_x": null,
            "overflow_y": null,
            "padding": null,
            "right": null,
            "top": null,
            "visibility": null,
            "width": "250px"
          }
        },
        "53d616c27e424434bc84eb67806c7d02": {
          "model_module": "@jupyter-widgets/controls",
          "model_name": "DescriptionStyleModel",
          "model_module_version": "1.5.0",
          "state": {
            "_model_module": "@jupyter-widgets/controls",
            "_model_module_version": "1.5.0",
            "_model_name": "DescriptionStyleModel",
            "_view_count": null,
            "_view_module": "@jupyter-widgets/base",
            "_view_module_version": "1.2.0",
            "_view_name": "StyleView",
            "description_width": ""
          }
        },
        "66bbdf355fa5422eb959a9b83b61e8fc": {
          "model_module": "@jupyter-widgets/controls",
          "model_name": "DropdownModel",
          "model_module_version": "1.5.0",
          "state": {
            "_dom_classes": [],
            "_model_module": "@jupyter-widgets/controls",
            "_model_module_version": "1.5.0",
            "_model_name": "DropdownModel",
            "_options_labels": [
              "Blog",
              "E-mail",
              "LinkedIn",
              "Instagram",
              "Facebook"
            ],
            "_view_count": null,
            "_view_module": "@jupyter-widgets/controls",
            "_view_module_version": "1.5.0",
            "_view_name": "DropdownView",
            "description": "Plataforma:",
            "description_tooltip": null,
            "disabled": false,
            "index": 0,
            "layout": "IPY_MODEL_46ce86f0db804773a9530c5dcff31c48",
            "style": "IPY_MODEL_084b5c7cd0df4ee99b2d24ee3fe1b9b8"
          }
        },
        "46ce86f0db804773a9530c5dcff31c48": {
          "model_module": "@jupyter-widgets/base",
          "model_name": "LayoutModel",
          "model_module_version": "1.2.0",
          "state": {
            "_model_module": "@jupyter-widgets/base",
            "_model_module_version": "1.2.0",
            "_model_name": "LayoutModel",
            "_view_count": null,
            "_view_module": "@jupyter-widgets/base",
            "_view_module_version": "1.2.0",
            "_view_name": "LayoutView",
            "align_content": null,
            "align_items": null,
            "align_self": null,
            "border": null,
            "bottom": null,
            "display": null,
            "flex": null,
            "flex_flow": null,
            "grid_area": null,
            "grid_auto_columns": null,
            "grid_auto_flow": null,
            "grid_auto_rows": null,
            "grid_column": null,
            "grid_gap": null,
            "grid_row": null,
            "grid_template_areas": null,
            "grid_template_columns": null,
            "grid_template_rows": null,
            "height": null,
            "justify_content": null,
            "justify_items": null,
            "left": null,
            "margin": null,
            "max_height": null,
            "max_width": null,
            "min_height": null,
            "min_width": null,
            "object_fit": null,
            "object_position": null,
            "order": null,
            "overflow": null,
            "overflow_x": null,
            "overflow_y": null,
            "padding": null,
            "right": null,
            "top": null,
            "visibility": null,
            "width": "250px"
          }
        },
        "084b5c7cd0df4ee99b2d24ee3fe1b9b8": {
          "model_module": "@jupyter-widgets/controls",
          "model_name": "DescriptionStyleModel",
          "model_module_version": "1.5.0",
          "state": {
            "_model_module": "@jupyter-widgets/controls",
            "_model_module_version": "1.5.0",
            "_model_name": "DescriptionStyleModel",
            "_view_count": null,
            "_view_module": "@jupyter-widgets/base",
            "_view_module_version": "1.2.0",
            "_view_name": "StyleView",
            "description_width": ""
          }
        },
        "8183df0fff0c4ebfa01134887f40e8f2": {
          "model_module": "@jupyter-widgets/controls",
          "model_name": "DropdownModel",
          "model_module_version": "1.5.0",
          "state": {
            "_dom_classes": [],
            "_model_module": "@jupyter-widgets/controls",
            "_model_module_version": "1.5.0",
            "_model_name": "DropdownModel",
            "_options_labels": [
              "Normal",
              "Informativo",
              "Inspirador",
              "Urgente",
              "Informal"
            ],
            "_view_count": null,
            "_view_module": "@jupyter-widgets/controls",
            "_view_module_version": "1.5.0",
            "_view_name": "DropdownView",
            "description": "Tom:",
            "description_tooltip": null,
            "disabled": false,
            "index": 0,
            "layout": "IPY_MODEL_e04356b0aaa54ac0a4dd0d5c0dffd979",
            "style": "IPY_MODEL_592f424ef22e4ee8a2e114e75249ce00"
          }
        },
        "e04356b0aaa54ac0a4dd0d5c0dffd979": {
          "model_module": "@jupyter-widgets/base",
          "model_name": "LayoutModel",
          "model_module_version": "1.2.0",
          "state": {
            "_model_module": "@jupyter-widgets/base",
            "_model_module_version": "1.2.0",
            "_model_name": "LayoutModel",
            "_view_count": null,
            "_view_module": "@jupyter-widgets/base",
            "_view_module_version": "1.2.0",
            "_view_name": "LayoutView",
            "align_content": null,
            "align_items": null,
            "align_self": null,
            "border": null,
            "bottom": null,
            "display": null,
            "flex": null,
            "flex_flow": null,
            "grid_area": null,
            "grid_auto_columns": null,
            "grid_auto_flow": null,
            "grid_auto_rows": null,
            "grid_column": null,
            "grid_gap": null,
            "grid_row": null,
            "grid_template_areas": null,
            "grid_template_columns": null,
            "grid_template_rows": null,
            "height": null,
            "justify_content": null,
            "justify_items": null,
            "left": null,
            "margin": null,
            "max_height": null,
            "max_width": null,
            "min_height": null,
            "min_width": null,
            "object_fit": null,
            "object_position": null,
            "order": null,
            "overflow": null,
            "overflow_x": null,
            "overflow_y": null,
            "padding": null,
            "right": null,
            "top": null,
            "visibility": null,
            "width": "250px"
          }
        },
        "592f424ef22e4ee8a2e114e75249ce00": {
          "model_module": "@jupyter-widgets/controls",
          "model_name": "DescriptionStyleModel",
          "model_module_version": "1.5.0",
          "state": {
            "_model_module": "@jupyter-widgets/controls",
            "_model_module_version": "1.5.0",
            "_model_name": "DescriptionStyleModel",
            "_view_count": null,
            "_view_module": "@jupyter-widgets/base",
            "_view_module_version": "1.2.0",
            "_view_name": "StyleView",
            "description_width": ""
          }
        },
        "5de2d3d751de4c92a03ae5d1805b8856": {
          "model_module": "@jupyter-widgets/controls",
          "model_name": "DropdownModel",
          "model_module_version": "1.5.0",
          "state": {
            "_dom_classes": [],
            "_model_module": "@jupyter-widgets/controls",
            "_model_module_version": "1.5.0",
            "_model_name": "DropdownModel",
            "_options_labels": [
              "Curto",
              "Médio",
              "Longo"
            ],
            "_view_count": null,
            "_view_module": "@jupyter-widgets/controls",
            "_view_module_version": "1.5.0",
            "_view_name": "DropdownView",
            "description": "Tamanho:",
            "description_tooltip": null,
            "disabled": false,
            "index": 0,
            "layout": "IPY_MODEL_ca2d68b34e0d4351a376838c1d934ebf",
            "style": "IPY_MODEL_41ffad61dfa6444ca6e6658cf4768916"
          }
        },
        "ca2d68b34e0d4351a376838c1d934ebf": {
          "model_module": "@jupyter-widgets/base",
          "model_name": "LayoutModel",
          "model_module_version": "1.2.0",
          "state": {
            "_model_module": "@jupyter-widgets/base",
            "_model_module_version": "1.2.0",
            "_model_name": "LayoutModel",
            "_view_count": null,
            "_view_module": "@jupyter-widgets/base",
            "_view_module_version": "1.2.0",
            "_view_name": "LayoutView",
            "align_content": null,
            "align_items": null,
            "align_self": null,
            "border": null,
            "bottom": null,
            "display": null,
            "flex": null,
            "flex_flow": null,
            "grid_area": null,
            "grid_auto_columns": null,
            "grid_auto_flow": null,
            "grid_auto_rows": null,
            "grid_column": null,
            "grid_gap": null,
            "grid_row": null,
            "grid_template_areas": null,
            "grid_template_columns": null,
            "grid_template_rows": null,
            "height": null,
            "justify_content": null,
            "justify_items": null,
            "left": null,
            "margin": null,
            "max_height": null,
            "max_width": null,
            "min_height": null,
            "min_width": null,
            "object_fit": null,
            "object_position": null,
            "order": null,
            "overflow": null,
            "overflow_x": null,
            "overflow_y": null,
            "padding": null,
            "right": null,
            "top": null,
            "visibility": null,
            "width": "250px"
          }
        },
        "41ffad61dfa6444ca6e6658cf4768916": {
          "model_module": "@jupyter-widgets/controls",
          "model_name": "DescriptionStyleModel",
          "model_module_version": "1.5.0",
          "state": {
            "_model_module": "@jupyter-widgets/controls",
            "_model_module_version": "1.5.0",
            "_model_name": "DescriptionStyleModel",
            "_view_count": null,
            "_view_module": "@jupyter-widgets/base",
            "_view_module_version": "1.2.0",
            "_view_name": "StyleView",
            "description_width": ""
          }
        },
        "283308af08764c5a80b22f9b8d83480a": {
          "model_module": "@jupyter-widgets/controls",
          "model_name": "DropdownModel",
          "model_module_version": "1.5.0",
          "state": {
            "_dom_classes": [],
            "_model_module": "@jupyter-widgets/controls",
            "_model_module_version": "1.5.0",
            "_model_name": "DropdownModel",
            "_options_labels": [
              "Geral",
              "Jovens adultos",
              "Famílias",
              "Idosos",
              "Adolescentes"
            ],
            "_view_count": null,
            "_view_module": "@jupyter-widgets/controls",
            "_view_module_version": "1.5.0",
            "_view_name": "DropdownView",
            "description": "Público-alvo:",
            "description_tooltip": null,
            "disabled": false,
            "index": 0,
            "layout": "IPY_MODEL_b4c2633b6c144b6c8e66fbab5ea7a20a",
            "style": "IPY_MODEL_3ca77b61796c44e098f0fa7da80ab3b0"
          }
        },
        "b4c2633b6c144b6c8e66fbab5ea7a20a": {
          "model_module": "@jupyter-widgets/base",
          "model_name": "LayoutModel",
          "model_module_version": "1.2.0",
          "state": {
            "_model_module": "@jupyter-widgets/base",
            "_model_module_version": "1.2.0",
            "_model_name": "LayoutModel",
            "_view_count": null,
            "_view_module": "@jupyter-widgets/base",
            "_view_module_version": "1.2.0",
            "_view_name": "LayoutView",
            "align_content": null,
            "align_items": null,
            "align_self": null,
            "border": null,
            "bottom": null,
            "display": null,
            "flex": null,
            "flex_flow": null,
            "grid_area": null,
            "grid_auto_columns": null,
            "grid_auto_flow": null,
            "grid_auto_rows": null,
            "grid_column": null,
            "grid_gap": null,
            "grid_row": null,
            "grid_template_areas": null,
            "grid_template_columns": null,
            "grid_template_rows": null,
            "height": null,
            "justify_content": null,
            "justify_items": null,
            "left": null,
            "margin": null,
            "max_height": null,
            "max_width": null,
            "min_height": null,
            "min_width": null,
            "object_fit": null,
            "object_position": null,
            "order": null,
            "overflow": null,
            "overflow_x": null,
            "overflow_y": null,
            "padding": null,
            "right": null,
            "top": null,
            "visibility": null,
            "width": "250px"
          }
        },
        "3ca77b61796c44e098f0fa7da80ab3b0": {
          "model_module": "@jupyter-widgets/controls",
          "model_name": "DescriptionStyleModel",
          "model_module_version": "1.5.0",
          "state": {
            "_model_module": "@jupyter-widgets/controls",
            "_model_module_version": "1.5.0",
            "_model_name": "DescriptionStyleModel",
            "_view_count": null,
            "_view_module": "@jupyter-widgets/base",
            "_view_module_version": "1.2.0",
            "_view_name": "StyleView",
            "description_width": ""
          }
        },
        "ce4cdfdad6e349c3b3549620e1ea999b": {
          "model_module": "@jupyter-widgets/controls",
          "model_name": "CheckboxModel",
          "model_module_version": "1.5.0",
          "state": {
            "_dom_classes": [],
            "_model_module": "@jupyter-widgets/controls",
            "_model_module_version": "1.5.0",
            "_model_name": "CheckboxModel",
            "_view_count": null,
            "_view_module": "@jupyter-widgets/controls",
            "_view_module_version": "1.5.0",
            "_view_name": "CheckboxView",
            "description": "Incluir CTA",
            "description_tooltip": null,
            "disabled": false,
            "indent": true,
            "layout": "IPY_MODEL_c648888283a6496ab904dda51fc729e7",
            "style": "IPY_MODEL_687ee79bc38545db9e8b423d3fc1ca08",
            "value": false
          }
        },
        "c648888283a6496ab904dda51fc729e7": {
          "model_module": "@jupyter-widgets/base",
          "model_name": "LayoutModel",
          "model_module_version": "1.2.0",
          "state": {
            "_model_module": "@jupyter-widgets/base",
            "_model_module_version": "1.2.0",
            "_model_name": "LayoutModel",
            "_view_count": null,
            "_view_module": "@jupyter-widgets/base",
            "_view_module_version": "1.2.0",
            "_view_name": "LayoutView",
            "align_content": null,
            "align_items": null,
            "align_self": null,
            "border": null,
            "bottom": null,
            "display": null,
            "flex": null,
            "flex_flow": null,
            "grid_area": null,
            "grid_auto_columns": null,
            "grid_auto_flow": null,
            "grid_auto_rows": null,
            "grid_column": null,
            "grid_gap": null,
            "grid_row": null,
            "grid_template_areas": null,
            "grid_template_columns": null,
            "grid_template_rows": null,
            "height": null,
            "justify_content": null,
            "justify_items": null,
            "left": null,
            "margin": null,
            "max_height": null,
            "max_width": null,
            "min_height": null,
            "min_width": null,
            "object_fit": null,
            "object_position": null,
            "order": null,
            "overflow": null,
            "overflow_x": null,
            "overflow_y": null,
            "padding": null,
            "right": null,
            "top": null,
            "visibility": null,
            "width": null
          }
        },
        "687ee79bc38545db9e8b423d3fc1ca08": {
          "model_module": "@jupyter-widgets/controls",
          "model_name": "DescriptionStyleModel",
          "model_module_version": "1.5.0",
          "state": {
            "_model_module": "@jupyter-widgets/controls",
            "_model_module_version": "1.5.0",
            "_model_name": "DescriptionStyleModel",
            "_view_count": null,
            "_view_module": "@jupyter-widgets/base",
            "_view_module_version": "1.2.0",
            "_view_name": "StyleView",
            "description_width": ""
          }
        },
        "f8569f6967b84084b9c40baf19460009": {
          "model_module": "@jupyter-widgets/controls",
          "model_name": "TextareaModel",
          "model_module_version": "1.5.0",
          "state": {
            "_dom_classes": [],
            "_model_module": "@jupyter-widgets/controls",
            "_model_module_version": "1.5.0",
            "_model_name": "TextareaModel",
            "_view_count": null,
            "_view_module": "@jupyter-widgets/controls",
            "_view_module_version": "1.5.0",
            "_view_name": "TextareaView",
            "continuous_update": true,
            "description": "Palavras-chave (SEO)",
            "description_tooltip": null,
            "disabled": false,
            "layout": "IPY_MODEL_bfa93ac54ebf45ae9a4f65e534963866",
            "placeholder": "Ex: bem-estar, medicina preventiva...",
            "rows": null,
            "style": "IPY_MODEL_b43cd34374634b08bc6696b1fb88b1dc",
            "value": ""
          }
        },
        "bfa93ac54ebf45ae9a4f65e534963866": {
          "model_module": "@jupyter-widgets/base",
          "model_name": "LayoutModel",
          "model_module_version": "1.2.0",
          "state": {
            "_model_module": "@jupyter-widgets/base",
            "_model_module_version": "1.2.0",
            "_model_name": "LayoutModel",
            "_view_count": null,
            "_view_module": "@jupyter-widgets/base",
            "_view_module_version": "1.2.0",
            "_view_name": "LayoutView",
            "align_content": null,
            "align_items": null,
            "align_self": null,
            "border": null,
            "bottom": null,
            "display": null,
            "flex": null,
            "flex_flow": null,
            "grid_area": null,
            "grid_auto_columns": null,
            "grid_auto_flow": null,
            "grid_auto_rows": null,
            "grid_column": null,
            "grid_gap": null,
            "grid_row": null,
            "grid_template_areas": null,
            "grid_template_columns": null,
            "grid_template_rows": null,
            "height": "50px",
            "justify_content": null,
            "justify_items": null,
            "left": null,
            "margin": null,
            "max_height": null,
            "max_width": null,
            "min_height": null,
            "min_width": null,
            "object_fit": null,
            "object_position": null,
            "order": null,
            "overflow": null,
            "overflow_x": null,
            "overflow_y": null,
            "padding": null,
            "right": null,
            "top": null,
            "visibility": null,
            "width": "500px"
          }
        },
        "b43cd34374634b08bc6696b1fb88b1dc": {
          "model_module": "@jupyter-widgets/controls",
          "model_name": "DescriptionStyleModel",
          "model_module_version": "1.5.0",
          "state": {
            "_model_module": "@jupyter-widgets/controls",
            "_model_module_version": "1.5.0",
            "_model_name": "DescriptionStyleModel",
            "_view_count": null,
            "_view_module": "@jupyter-widgets/base",
            "_view_module_version": "1.2.0",
            "_view_name": "StyleView",
            "description_width": ""
          }
        },
        "6e8f2c48b1b74d6a9ffbb99adb33efdc": {
          "model_module": "@jupyter-widgets/controls",
          "model_name": "ButtonModel",
          "model_module_version": "1.5.0",
          "state": {
            "_dom_classes": [],
            "_model_module": "@jupyter-widgets/controls",
            "_model_module_version": "1.5.0",
            "_model_name": "ButtonModel",
            "_view_count": null,
            "_view_module": "@jupyter-widgets/controls",
            "_view_module_version": "1.5.0",
            "_view_name": "ButtonView",
            "button_style": "",
            "description": "Gerar conteúdo",
            "disabled": false,
            "icon": "",
            "layout": "IPY_MODEL_b22d0540452c499a8e2fd5c6862859c3",
            "style": "IPY_MODEL_534832f9567e4540a37c6017db092189",
            "tooltip": ""
          }
        },
        "b22d0540452c499a8e2fd5c6862859c3": {
          "model_module": "@jupyter-widgets/base",
          "model_name": "LayoutModel",
          "model_module_version": "1.2.0",
          "state": {
            "_model_module": "@jupyter-widgets/base",
            "_model_module_version": "1.2.0",
            "_model_name": "LayoutModel",
            "_view_count": null,
            "_view_module": "@jupyter-widgets/base",
            "_view_module_version": "1.2.0",
            "_view_name": "LayoutView",
            "align_content": null,
            "align_items": null,
            "align_self": null,
            "border": null,
            "bottom": null,
            "display": null,
            "flex": null,
            "flex_flow": null,
            "grid_area": null,
            "grid_auto_columns": null,
            "grid_auto_flow": null,
            "grid_auto_rows": null,
            "grid_column": null,
            "grid_gap": null,
            "grid_row": null,
            "grid_template_areas": null,
            "grid_template_columns": null,
            "grid_template_rows": null,
            "height": null,
            "justify_content": null,
            "justify_items": null,
            "left": null,
            "margin": null,
            "max_height": null,
            "max_width": null,
            "min_height": null,
            "min_width": null,
            "object_fit": null,
            "object_position": null,
            "order": null,
            "overflow": null,
            "overflow_x": null,
            "overflow_y": null,
            "padding": null,
            "right": null,
            "top": null,
            "visibility": null,
            "width": null
          }
        },
        "534832f9567e4540a37c6017db092189": {
          "model_module": "@jupyter-widgets/controls",
          "model_name": "ButtonStyleModel",
          "model_module_version": "1.5.0",
          "state": {
            "_model_module": "@jupyter-widgets/controls",
            "_model_module_version": "1.5.0",
            "_model_name": "ButtonStyleModel",
            "_view_count": null,
            "_view_module": "@jupyter-widgets/base",
            "_view_module_version": "1.2.0",
            "_view_name": "StyleView",
            "button_color": null,
            "font_weight": ""
          }
        },
        "cebe9c9c304d4c4bb3ca8939f1b135ab": {
          "model_module": "@jupyter-widgets/output",
          "model_name": "OutputModel",
          "model_module_version": "1.0.0",
          "state": {
            "_dom_classes": [],
            "_model_module": "@jupyter-widgets/output",
            "_model_module_version": "1.0.0",
            "_model_name": "OutputModel",
            "_view_count": null,
            "_view_module": "@jupyter-widgets/output",
            "_view_module_version": "1.0.0",
            "_view_name": "OutputView",
            "layout": "IPY_MODEL_229832914ccb4d2c88abcca0c22b680e",
            "msg_id": "",
            "outputs": []
          }
        },
        "229832914ccb4d2c88abcca0c22b680e": {
          "model_module": "@jupyter-widgets/base",
          "model_name": "LayoutModel",
          "model_module_version": "1.2.0",
          "state": {
            "_model_module": "@jupyter-widgets/base",
            "_model_module_version": "1.2.0",
            "_model_name": "LayoutModel",
            "_view_count": null,
            "_view_module": "@jupyter-widgets/base",
            "_view_module_version": "1.2.0",
            "_view_name": "LayoutView",
            "align_content": null,
            "align_items": null,
            "align_self": null,
            "border": null,
            "bottom": null,
            "display": null,
            "flex": null,
            "flex_flow": null,
            "grid_area": null,
            "grid_auto_columns": null,
            "grid_auto_flow": null,
            "grid_auto_rows": null,
            "grid_column": null,
            "grid_gap": null,
            "grid_row": null,
            "grid_template_areas": null,
            "grid_template_columns": null,
            "grid_template_rows": null,
            "height": null,
            "justify_content": null,
            "justify_items": null,
            "left": null,
            "margin": null,
            "max_height": null,
            "max_width": null,
            "min_height": null,
            "min_width": null,
            "object_fit": null,
            "object_position": null,
            "order": null,
            "overflow": null,
            "overflow_x": null,
            "overflow_y": null,
            "padding": null,
            "right": null,
            "top": null,
            "visibility": null,
            "width": null
          }
        },
        "60db3316e3cf4788b83d1273912e7a9b": {
          "model_module": "@jupyter-widgets/controls",
          "model_name": "VBoxModel",
          "model_module_version": "1.5.0",
          "state": {
            "_dom_classes": [],
            "_model_module": "@jupyter-widgets/controls",
            "_model_module_version": "1.5.0",
            "_model_name": "VBoxModel",
            "_view_count": null,
            "_view_module": "@jupyter-widgets/controls",
            "_view_module_version": "1.5.0",
            "_view_name": "VBoxView",
            "box_style": "",
            "children": [
              "IPY_MODEL_64bf7b86552b4e44be8980b8e3ae8d6e",
              "IPY_MODEL_66bbdf355fa5422eb959a9b83b61e8fc",
              "IPY_MODEL_8183df0fff0c4ebfa01134887f40e8f2",
              "IPY_MODEL_5de2d3d751de4c92a03ae5d1805b8856",
              "IPY_MODEL_283308af08764c5a80b22f9b8d83480a",
              "IPY_MODEL_ce4cdfdad6e349c3b3549620e1ea999b",
              "IPY_MODEL_e129282fbb7d47b688cbc9d2b66d02b3",
              "IPY_MODEL_f8569f6967b84084b9c40baf19460009",
              "IPY_MODEL_6e8f2c48b1b74d6a9ffbb99adb33efdc",
              "IPY_MODEL_cebe9c9c304d4c4bb3ca8939f1b135ab"
            ],
            "layout": "IPY_MODEL_b7183ffd40554e82b3d83d2e778222fa"
          }
        },
        "e129282fbb7d47b688cbc9d2b66d02b3": {
          "model_module": "@jupyter-widgets/controls",
          "model_name": "CheckboxModel",
          "model_module_version": "1.5.0",
          "state": {
            "_dom_classes": [],
            "_model_module": "@jupyter-widgets/controls",
            "_model_module_version": "1.5.0",
            "_model_name": "CheckboxModel",
            "_view_count": null,
            "_view_module": "@jupyter-widgets/controls",
            "_view_module_version": "1.5.0",
            "_view_name": "CheckboxView",
            "description": "Retornas Hashtags",
            "description_tooltip": null,
            "disabled": false,
            "indent": true,
            "layout": "IPY_MODEL_16f52390449f4cec9c8d522acdc3a453",
            "style": "IPY_MODEL_12ad0b292e454d35adc7cef75e3ae72a",
            "value": false
          }
        },
        "b7183ffd40554e82b3d83d2e778222fa": {
          "model_module": "@jupyter-widgets/base",
          "model_name": "LayoutModel",
          "model_module_version": "1.2.0",
          "state": {
            "_model_module": "@jupyter-widgets/base",
            "_model_module_version": "1.2.0",
            "_model_name": "LayoutModel",
            "_view_count": null,
            "_view_module": "@jupyter-widgets/base",
            "_view_module_version": "1.2.0",
            "_view_name": "LayoutView",
            "align_content": null,
            "align_items": null,
            "align_self": null,
            "border": null,
            "bottom": null,
            "display": null,
            "flex": null,
            "flex_flow": null,
            "grid_area": null,
            "grid_auto_columns": null,
            "grid_auto_flow": null,
            "grid_auto_rows": null,
            "grid_column": null,
            "grid_gap": null,
            "grid_row": null,
            "grid_template_areas": null,
            "grid_template_columns": null,
            "grid_template_rows": null,
            "height": null,
            "justify_content": null,
            "justify_items": null,
            "left": null,
            "margin": null,
            "max_height": null,
            "max_width": null,
            "min_height": null,
            "min_width": null,
            "object_fit": null,
            "object_position": null,
            "order": null,
            "overflow": null,
            "overflow_x": null,
            "overflow_y": null,
            "padding": null,
            "right": null,
            "top": null,
            "visibility": null,
            "width": null
          }
        },
        "16f52390449f4cec9c8d522acdc3a453": {
          "model_module": "@jupyter-widgets/base",
          "model_name": "LayoutModel",
          "model_module_version": "1.2.0",
          "state": {
            "_model_module": "@jupyter-widgets/base",
            "_model_module_version": "1.2.0",
            "_model_name": "LayoutModel",
            "_view_count": null,
            "_view_module": "@jupyter-widgets/base",
            "_view_module_version": "1.2.0",
            "_view_name": "LayoutView",
            "align_content": null,
            "align_items": null,
            "align_self": null,
            "border": null,
            "bottom": null,
            "display": null,
            "flex": null,
            "flex_flow": null,
            "grid_area": null,
            "grid_auto_columns": null,
            "grid_auto_flow": null,
            "grid_auto_rows": null,
            "grid_column": null,
            "grid_gap": null,
            "grid_row": null,
            "grid_template_areas": null,
            "grid_template_columns": null,
            "grid_template_rows": null,
            "height": null,
            "justify_content": null,
            "justify_items": null,
            "left": null,
            "margin": null,
            "max_height": null,
            "max_width": null,
            "min_height": null,
            "min_width": null,
            "object_fit": null,
            "object_position": null,
            "order": null,
            "overflow": null,
            "overflow_x": null,
            "overflow_y": null,
            "padding": null,
            "right": null,
            "top": null,
            "visibility": null,
            "width": null
          }
        },
        "12ad0b292e454d35adc7cef75e3ae72a": {
          "model_module": "@jupyter-widgets/controls",
          "model_name": "DescriptionStyleModel",
          "model_module_version": "1.5.0",
          "state": {
            "_model_module": "@jupyter-widgets/controls",
            "_model_module_version": "1.5.0",
            "_model_name": "DescriptionStyleModel",
            "_view_count": null,
            "_view_module": "@jupyter-widgets/base",
            "_view_module_version": "1.2.0",
            "_view_name": "StyleView",
            "description_width": ""
          }
        },
        "7c178fb899204a118ef2ad605ee8f2bd": {
          "model_module": "@jupyter-widgets/controls",
          "model_name": "VBoxModel",
          "model_module_version": "1.5.0",
          "state": {
            "_dom_classes": [],
            "_model_module": "@jupyter-widgets/controls",
            "_model_module_version": "1.5.0",
            "_model_name": "VBoxModel",
            "_view_count": null,
            "_view_module": "@jupyter-widgets/controls",
            "_view_module_version": "1.5.0",
            "_view_name": "VBoxView",
            "box_style": "",
            "children": [
              "IPY_MODEL_64bf7b86552b4e44be8980b8e3ae8d6e",
              "IPY_MODEL_66bbdf355fa5422eb959a9b83b61e8fc",
              "IPY_MODEL_8183df0fff0c4ebfa01134887f40e8f2",
              "IPY_MODEL_5de2d3d751de4c92a03ae5d1805b8856",
              "IPY_MODEL_283308af08764c5a80b22f9b8d83480a",
              "IPY_MODEL_ce4cdfdad6e349c3b3549620e1ea999b",
              "IPY_MODEL_e129282fbb7d47b688cbc9d2b66d02b3",
              "IPY_MODEL_f8569f6967b84084b9c40baf19460009",
              "IPY_MODEL_6e8f2c48b1b74d6a9ffbb99adb33efdc",
              "IPY_MODEL_cebe9c9c304d4c4bb3ca8939f1b135ab"
            ],
            "layout": "IPY_MODEL_1f1592e6301c4e56b6a560f929f97cab"
          }
        },
        "1f1592e6301c4e56b6a560f929f97cab": {
          "model_module": "@jupyter-widgets/base",
          "model_name": "LayoutModel",
          "model_module_version": "1.2.0",
          "state": {
            "_model_module": "@jupyter-widgets/base",
            "_model_module_version": "1.2.0",
            "_model_name": "LayoutModel",
            "_view_count": null,
            "_view_module": "@jupyter-widgets/base",
            "_view_module_version": "1.2.0",
            "_view_name": "LayoutView",
            "align_content": null,
            "align_items": null,
            "align_self": null,
            "border": null,
            "bottom": null,
            "display": null,
            "flex": null,
            "flex_flow": null,
            "grid_area": null,
            "grid_auto_columns": null,
            "grid_auto_flow": null,
            "grid_auto_rows": null,
            "grid_column": null,
            "grid_gap": null,
            "grid_row": null,
            "grid_template_areas": null,
            "grid_template_columns": null,
            "grid_template_rows": null,
            "height": null,
            "justify_content": null,
            "justify_items": null,
            "left": null,
            "margin": null,
            "max_height": null,
            "max_width": null,
            "min_height": null,
            "min_width": null,
            "object_fit": null,
            "object_position": null,
            "order": null,
            "overflow": null,
            "overflow_x": null,
            "overflow_y": null,
            "padding": null,
            "right": null,
            "top": null,
            "visibility": null,
            "width": null
          }
        },
        "b425d6d17b4d49cf83764b995c299c74": {
          "model_module": "@jupyter-widgets/controls",
          "model_name": "VBoxModel",
          "model_module_version": "1.5.0",
          "state": {
            "_dom_classes": [],
            "_model_module": "@jupyter-widgets/controls",
            "_model_module_version": "1.5.0",
            "_model_name": "VBoxModel",
            "_view_count": null,
            "_view_module": "@jupyter-widgets/controls",
            "_view_module_version": "1.5.0",
            "_view_name": "VBoxView",
            "box_style": "",
            "children": [
              "IPY_MODEL_64bf7b86552b4e44be8980b8e3ae8d6e",
              "IPY_MODEL_66bbdf355fa5422eb959a9b83b61e8fc",
              "IPY_MODEL_8183df0fff0c4ebfa01134887f40e8f2",
              "IPY_MODEL_5de2d3d751de4c92a03ae5d1805b8856",
              "IPY_MODEL_283308af08764c5a80b22f9b8d83480a",
              "IPY_MODEL_ce4cdfdad6e349c3b3549620e1ea999b",
              "IPY_MODEL_e129282fbb7d47b688cbc9d2b66d02b3",
              "IPY_MODEL_f8569f6967b84084b9c40baf19460009",
              "IPY_MODEL_dab3ff2b4f064f3cb4226b1bffb6f601",
              "IPY_MODEL_27e3678320fa4d2fb86d23a62774dbc6"
            ],
            "layout": "IPY_MODEL_e3e4889660b54a308e5ed9e6adb91b58"
          }
        },
        "dab3ff2b4f064f3cb4226b1bffb6f601": {
          "model_module": "@jupyter-widgets/controls",
          "model_name": "ButtonModel",
          "model_module_version": "1.5.0",
          "state": {
            "_dom_classes": [],
            "_model_module": "@jupyter-widgets/controls",
            "_model_module_version": "1.5.0",
            "_model_name": "ButtonModel",
            "_view_count": null,
            "_view_module": "@jupyter-widgets/controls",
            "_view_module_version": "1.5.0",
            "_view_name": "ButtonView",
            "button_style": "",
            "description": "Gerar conteúdo",
            "disabled": false,
            "icon": "",
            "layout": "IPY_MODEL_0a4f64fb0f1b443dbaca4440cd2a93bb",
            "style": "IPY_MODEL_6e4b068b932f421aa72f1cda13bd096f",
            "tooltip": ""
          }
        },
        "27e3678320fa4d2fb86d23a62774dbc6": {
          "model_module": "@jupyter-widgets/output",
          "model_name": "OutputModel",
          "model_module_version": "1.0.0",
          "state": {
            "_dom_classes": [],
            "_model_module": "@jupyter-widgets/output",
            "_model_module_version": "1.0.0",
            "_model_name": "OutputModel",
            "_view_count": null,
            "_view_module": "@jupyter-widgets/output",
            "_view_module_version": "1.0.0",
            "_view_name": "OutputView",
            "layout": "IPY_MODEL_8b00188e799c4a59aeed1e299e397000",
            "msg_id": "",
            "outputs": []
          }
        },
        "e3e4889660b54a308e5ed9e6adb91b58": {
          "model_module": "@jupyter-widgets/base",
          "model_name": "LayoutModel",
          "model_module_version": "1.2.0",
          "state": {
            "_model_module": "@jupyter-widgets/base",
            "_model_module_version": "1.2.0",
            "_model_name": "LayoutModel",
            "_view_count": null,
            "_view_module": "@jupyter-widgets/base",
            "_view_module_version": "1.2.0",
            "_view_name": "LayoutView",
            "align_content": null,
            "align_items": null,
            "align_self": null,
            "border": null,
            "bottom": null,
            "display": null,
            "flex": null,
            "flex_flow": null,
            "grid_area": null,
            "grid_auto_columns": null,
            "grid_auto_flow": null,
            "grid_auto_rows": null,
            "grid_column": null,
            "grid_gap": null,
            "grid_row": null,
            "grid_template_areas": null,
            "grid_template_columns": null,
            "grid_template_rows": null,
            "height": null,
            "justify_content": null,
            "justify_items": null,
            "left": null,
            "margin": null,
            "max_height": null,
            "max_width": null,
            "min_height": null,
            "min_width": null,
            "object_fit": null,
            "object_position": null,
            "order": null,
            "overflow": null,
            "overflow_x": null,
            "overflow_y": null,
            "padding": null,
            "right": null,
            "top": null,
            "visibility": null,
            "width": null
          }
        },
        "0a4f64fb0f1b443dbaca4440cd2a93bb": {
          "model_module": "@jupyter-widgets/base",
          "model_name": "LayoutModel",
          "model_module_version": "1.2.0",
          "state": {
            "_model_module": "@jupyter-widgets/base",
            "_model_module_version": "1.2.0",
            "_model_name": "LayoutModel",
            "_view_count": null,
            "_view_module": "@jupyter-widgets/base",
            "_view_module_version": "1.2.0",
            "_view_name": "LayoutView",
            "align_content": null,
            "align_items": null,
            "align_self": null,
            "border": null,
            "bottom": null,
            "display": null,
            "flex": null,
            "flex_flow": null,
            "grid_area": null,
            "grid_auto_columns": null,
            "grid_auto_flow": null,
            "grid_auto_rows": null,
            "grid_column": null,
            "grid_gap": null,
            "grid_row": null,
            "grid_template_areas": null,
            "grid_template_columns": null,
            "grid_template_rows": null,
            "height": null,
            "justify_content": null,
            "justify_items": null,
            "left": null,
            "margin": null,
            "max_height": null,
            "max_width": null,
            "min_height": null,
            "min_width": null,
            "object_fit": null,
            "object_position": null,
            "order": null,
            "overflow": null,
            "overflow_x": null,
            "overflow_y": null,
            "padding": null,
            "right": null,
            "top": null,
            "visibility": null,
            "width": null
          }
        },
        "6e4b068b932f421aa72f1cda13bd096f": {
          "model_module": "@jupyter-widgets/controls",
          "model_name": "ButtonStyleModel",
          "model_module_version": "1.5.0",
          "state": {
            "_model_module": "@jupyter-widgets/controls",
            "_model_module_version": "1.5.0",
            "_model_name": "ButtonStyleModel",
            "_view_count": null,
            "_view_module": "@jupyter-widgets/base",
            "_view_module_version": "1.2.0",
            "_view_name": "StyleView",
            "button_color": null,
            "font_weight": ""
          }
        },
        "8b00188e799c4a59aeed1e299e397000": {
          "model_module": "@jupyter-widgets/base",
          "model_name": "LayoutModel",
          "model_module_version": "1.2.0",
          "state": {
            "_model_module": "@jupyter-widgets/base",
            "_model_module_version": "1.2.0",
            "_model_name": "LayoutModel",
            "_view_count": null,
            "_view_module": "@jupyter-widgets/base",
            "_view_module_version": "1.2.0",
            "_view_name": "LayoutView",
            "align_content": null,
            "align_items": null,
            "align_self": null,
            "border": null,
            "bottom": null,
            "display": null,
            "flex": null,
            "flex_flow": null,
            "grid_area": null,
            "grid_auto_columns": null,
            "grid_auto_flow": null,
            "grid_auto_rows": null,
            "grid_column": null,
            "grid_gap": null,
            "grid_row": null,
            "grid_template_areas": null,
            "grid_template_columns": null,
            "grid_template_rows": null,
            "height": null,
            "justify_content": null,
            "justify_items": null,
            "left": null,
            "margin": null,
            "max_height": null,
            "max_width": null,
            "min_height": null,
            "min_width": null,
            "object_fit": null,
            "object_position": null,
            "order": null,
            "overflow": null,
            "overflow_x": null,
            "overflow_y": null,
            "padding": null,
            "right": null,
            "top": null,
            "visibility": null,
            "width": null
          }
        },
        "7f3aec87dc534d2dabfaef8c3d1ab915": {
          "model_module": "@jupyter-widgets/controls",
          "model_name": "VBoxModel",
          "model_module_version": "1.5.0",
          "state": {
            "_dom_classes": [],
            "_model_module": "@jupyter-widgets/controls",
            "_model_module_version": "1.5.0",
            "_model_name": "VBoxModel",
            "_view_count": null,
            "_view_module": "@jupyter-widgets/controls",
            "_view_module_version": "1.5.0",
            "_view_name": "VBoxView",
            "box_style": "",
            "children": [
              "IPY_MODEL_64bf7b86552b4e44be8980b8e3ae8d6e",
              "IPY_MODEL_66bbdf355fa5422eb959a9b83b61e8fc",
              "IPY_MODEL_8183df0fff0c4ebfa01134887f40e8f2",
              "IPY_MODEL_439479034eb1436698eefdf995695022",
              "IPY_MODEL_283308af08764c5a80b22f9b8d83480a",
              "IPY_MODEL_ce4cdfdad6e349c3b3549620e1ea999b",
              "IPY_MODEL_e129282fbb7d47b688cbc9d2b66d02b3",
              "IPY_MODEL_f8569f6967b84084b9c40baf19460009",
              "IPY_MODEL_dab3ff2b4f064f3cb4226b1bffb6f601",
              "IPY_MODEL_27e3678320fa4d2fb86d23a62774dbc6"
            ],
            "layout": "IPY_MODEL_0562ee8e3e92464899de968d18fb6902"
          }
        },
        "439479034eb1436698eefdf995695022": {
          "model_module": "@jupyter-widgets/controls",
          "model_name": "DropdownModel",
          "model_module_version": "1.5.0",
          "state": {
            "_dom_classes": [],
            "_model_module": "@jupyter-widgets/controls",
            "_model_module_version": "1.5.0",
            "_model_name": "DropdownModel",
            "_options_labels": [
              "Curto",
              "Médio",
              "Longo",
              "1 parágrafo",
              "1 página"
            ],
            "_view_count": null,
            "_view_module": "@jupyter-widgets/controls",
            "_view_module_version": "1.5.0",
            "_view_name": "DropdownView",
            "description": "Tamanho",
            "description_tooltip": null,
            "disabled": false,
            "index": 0,
            "layout": "IPY_MODEL_a1df2d986af54ce88dfe3bb32b855eb1",
            "style": "IPY_MODEL_52c906e55da74d4280e5c09e4e296588"
          }
        },
        "0562ee8e3e92464899de968d18fb6902": {
          "model_module": "@jupyter-widgets/base",
          "model_name": "LayoutModel",
          "model_module_version": "1.2.0",
          "state": {
            "_model_module": "@jupyter-widgets/base",
            "_model_module_version": "1.2.0",
            "_model_name": "LayoutModel",
            "_view_count": null,
            "_view_module": "@jupyter-widgets/base",
            "_view_module_version": "1.2.0",
            "_view_name": "LayoutView",
            "align_content": null,
            "align_items": null,
            "align_self": null,
            "border": null,
            "bottom": null,
            "display": null,
            "flex": null,
            "flex_flow": null,
            "grid_area": null,
            "grid_auto_columns": null,
            "grid_auto_flow": null,
            "grid_auto_rows": null,
            "grid_column": null,
            "grid_gap": null,
            "grid_row": null,
            "grid_template_areas": null,
            "grid_template_columns": null,
            "grid_template_rows": null,
            "height": null,
            "justify_content": null,
            "justify_items": null,
            "left": null,
            "margin": null,
            "max_height": null,
            "max_width": null,
            "min_height": null,
            "min_width": null,
            "object_fit": null,
            "object_position": null,
            "order": null,
            "overflow": null,
            "overflow_x": null,
            "overflow_y": null,
            "padding": null,
            "right": null,
            "top": null,
            "visibility": null,
            "width": null
          }
        },
        "a1df2d986af54ce88dfe3bb32b855eb1": {
          "model_module": "@jupyter-widgets/base",
          "model_name": "LayoutModel",
          "model_module_version": "1.2.0",
          "state": {
            "_model_module": "@jupyter-widgets/base",
            "_model_module_version": "1.2.0",
            "_model_name": "LayoutModel",
            "_view_count": null,
            "_view_module": "@jupyter-widgets/base",
            "_view_module_version": "1.2.0",
            "_view_name": "LayoutView",
            "align_content": null,
            "align_items": null,
            "align_self": null,
            "border": null,
            "bottom": null,
            "display": null,
            "flex": null,
            "flex_flow": null,
            "grid_area": null,
            "grid_auto_columns": null,
            "grid_auto_flow": null,
            "grid_auto_rows": null,
            "grid_column": null,
            "grid_gap": null,
            "grid_row": null,
            "grid_template_areas": null,
            "grid_template_columns": null,
            "grid_template_rows": null,
            "height": null,
            "justify_content": null,
            "justify_items": null,
            "left": null,
            "margin": null,
            "max_height": null,
            "max_width": null,
            "min_height": null,
            "min_width": null,
            "object_fit": null,
            "object_position": null,
            "order": null,
            "overflow": null,
            "overflow_x": null,
            "overflow_y": null,
            "padding": null,
            "right": null,
            "top": null,
            "visibility": null,
            "width": "250px"
          }
        },
        "52c906e55da74d4280e5c09e4e296588": {
          "model_module": "@jupyter-widgets/controls",
          "model_name": "DescriptionStyleModel",
          "model_module_version": "1.5.0",
          "state": {
            "_model_module": "@jupyter-widgets/controls",
            "_model_module_version": "1.5.0",
            "_model_name": "DescriptionStyleModel",
            "_view_count": null,
            "_view_module": "@jupyter-widgets/base",
            "_view_module_version": "1.2.0",
            "_view_name": "StyleView",
            "description_width": ""
          }
        }
      }
    }
  },
  "cells": [
    {
      "cell_type": "markdown",
      "metadata": {
        "id": "view-in-github",
        "colab_type": "text"
      },
      "source": [
        "<a href=\"https://colab.research.google.com/github/elyasncr/LLM/blob/main/LLMs_para_Marketing.ipynb\" target=\"_parent\"><img src=\"https://colab.research.google.com/assets/colab-badge.svg\" alt=\"Open In Colab\"/></a>"
      ]
    },
    {
      "cell_type": "markdown",
      "source": [
        "# Projeto para Departamento de Marketing\n"
      ],
      "metadata": {
        "id": "Tb0K388vdpXM"
      }
    },
    {
      "cell_type": "markdown",
      "source": [
        "#### Instalação das bibliotecas"
      ],
      "metadata": {
        "id": "mcz9rex7d9am"
      }
    },
    {
      "cell_type": "code",
      "execution_count": 95,
      "metadata": {
        "id": "KsApE-ABX2Y1"
      },
      "outputs": [],
      "source": [
        "!pip install -q langchain langchain-community langchain-groq ipywidgets"
      ]
    },
    {
      "cell_type": "markdown",
      "source": [
        "#### Importar bibliotecas"
      ],
      "metadata": {
        "id": "RuR3DfBMe1o3"
      }
    },
    {
      "cell_type": "code",
      "source": [
        "from google.colab import widgets\n",
        "import ipywidgets as widgets\n",
        "\n",
        "from langchain_groq import ChatGroq\n",
        "import os\n",
        "import getpass"
      ],
      "metadata": {
        "id": "i9lOugC3ec9e"
      },
      "execution_count": 96,
      "outputs": []
    },
    {
      "cell_type": "markdown",
      "source": [
        "## Criação dos campos - Interface\n",
        "Campos apresentados no slide do estudo de caso\n",
        "\n",
        "\n",
        "*   Plataforma de destino (ex: Blog, Instagram, LinkedIn, E-mail)\n",
        "*   Tom da mensagem (ex: Informativo, Inspirador, Urgente, Informal)\n",
        "*   Comprimento do texto (ex: Curto, Médio, Longo)\n",
        "*   Tema ou tópico (ex: Alimentação, saúde mental, exames de rotina, cuidados, etc.)\n",
        "*   Público-alvo (Jovens adultos, Famílias, Idosos, Geral, etc.)\n",
        "*   Opções adicionais:\n",
        "    *   Incluir chamada para ação (ex: \"Agendar consulta\" ou \"Converse com um especialista\")\n",
        "    *   Retornar hashtags\n",
        "    *   Inserir palavras-chaves para incluir no meio do texto\n",
        "\n",
        "\n"
      ],
      "metadata": {
        "id": "swZPlU0_fMhO"
      }
    },
    {
      "cell_type": "code",
      "source": [
        "topic = widgets.Text(\n",
        "    description = 'Tema:',\n",
        "    placeholder = 'Ex: saúde mental, alimentação saudável, prevenção, etc.'\n",
        ")"
      ],
      "metadata": {
        "id": "fluxmp8dfMHy"
      },
      "execution_count": 97,
      "outputs": []
    },
    {
      "cell_type": "markdown",
      "source": [
        "#### Exibindo o widget"
      ],
      "metadata": {
        "id": "dvhXJeczgxJq"
      }
    },
    {
      "cell_type": "code",
      "source": [
        "display(topic)"
      ],
      "metadata": {
        "colab": {
          "base_uri": "https://localhost:8080/",
          "height": 49,
          "referenced_widgets": [
            "11ffac09ed78463d84953a43acf51bb1",
            "954704862f78406fbb100d09fdc23bbe",
            "90d08658f9244684bc0008933ae5aff6"
          ]
        },
        "id": "ZVSw-hize81X",
        "outputId": "9aafbc50-ebff-4868-cbbf-2c23c510967f"
      },
      "execution_count": 98,
      "outputs": [
        {
          "output_type": "display_data",
          "data": {
            "text/plain": [
              "Text(value='', description='Tema:', placeholder='Ex: saúde mental, alimentação saudável, prevenção, etc.')"
            ],
            "application/vnd.jupyter.widget-view+json": {
              "version_major": 2,
              "version_minor": 0,
              "model_id": "11ffac09ed78463d84953a43acf51bb1"
            }
          },
          "metadata": {}
        }
      ]
    },
    {
      "cell_type": "code",
      "source": [
        "topic.value"
      ],
      "metadata": {
        "colab": {
          "base_uri": "https://localhost:8080/",
          "height": 35
        },
        "id": "LbNEwxdog00y",
        "outputId": "49f273f1-06dd-485e-bfbf-aaa1377a61f6"
      },
      "execution_count": 99,
      "outputs": [
        {
          "output_type": "execute_result",
          "data": {
            "text/plain": [
              "''"
            ],
            "application/vnd.google.colaboratory.intrinsic+json": {
              "type": "string"
            }
          },
          "metadata": {},
          "execution_count": 99
        }
      ]
    },
    {
      "cell_type": "markdown",
      "source": [
        "#### Ajustando propriedades do campo"
      ],
      "metadata": {
        "id": "mLONOL88hABy"
      }
    },
    {
      "cell_type": "code",
      "source": [
        "topic = widgets.Text(\n",
        "    description = 'Tema:',\n",
        "    placeholder = 'Ex: saúde mental, alimentação saudável, prevenção, etc.',\n",
        "    layout = widgets.Layout(width='500px')\n",
        ")\n",
        "display(topic)"
      ],
      "metadata": {
        "colab": {
          "base_uri": "https://localhost:8080/",
          "height": 49,
          "referenced_widgets": [
            "64bf7b86552b4e44be8980b8e3ae8d6e",
            "0f0fe47aae7c42b5a43f73c741a08bfb",
            "8b796770b37c45048f0ac8bbdcf88766"
          ]
        },
        "id": "I_kk7Koug9-f",
        "outputId": "64ee3b0c-0e6a-48b5-a6d5-3f0eb9fc3d3c"
      },
      "execution_count": 100,
      "outputs": [
        {
          "output_type": "display_data",
          "data": {
            "text/plain": [
              "Text(value='', description='Tema:', layout=Layout(width='500px'), placeholder='Ex: saúde mental, alimentação s…"
            ],
            "application/vnd.jupyter.widget-view+json": {
              "version_major": 2,
              "version_minor": 0,
              "model_id": "64bf7b86552b4e44be8980b8e3ae8d6e"
            }
          },
          "metadata": {}
        }
      ]
    },
    {
      "cell_type": "markdown",
      "source": [
        "#### Outros formatos de campos"
      ],
      "metadata": {
        "id": "PHUI7EcBhUMc"
      }
    },
    {
      "cell_type": "code",
      "source": [
        "w_dropdown = '250px'\n",
        "\n",
        "platform = widgets.Dropdown(\n",
        "    options = ['Blog', 'E-mail', 'LinkedIn', 'Instagram', 'Facebook'],\n",
        "    description = 'Plataforma',\n",
        "    layout = widgets.Layout(width = w_dropdown)\n",
        ")\n",
        "display(platform)"
      ],
      "metadata": {
        "colab": {
          "base_uri": "https://localhost:8080/",
          "height": 49,
          "referenced_widgets": [
            "f241da1f84f04f6ebbed00e38602c5c7",
            "20fc2f17f1aa481b98b11ebf1de74df7",
            "53d616c27e424434bc84eb67806c7d02"
          ]
        },
        "id": "NJB0D3E9hMC0",
        "outputId": "e6bf710e-28c1-4376-8f2b-a04886df611f"
      },
      "execution_count": 101,
      "outputs": [
        {
          "output_type": "display_data",
          "data": {
            "text/plain": [
              "Dropdown(description='Plataforma', layout=Layout(width='250px'), options=('Blog', 'E-mail', 'LinkedIn', 'Insta…"
            ],
            "application/vnd.jupyter.widget-view+json": {
              "version_major": 2,
              "version_minor": 0,
              "model_id": "f241da1f84f04f6ebbed00e38602c5c7"
            }
          },
          "metadata": {}
        }
      ]
    },
    {
      "cell_type": "code",
      "source": [
        "w_dropdown = '250px'\n",
        "\n",
        "platform = widgets.Dropdown(\n",
        "    options = ['Blog', 'E-mail', 'LinkedIn', 'Instagram', 'Facebook'],\n",
        "    description = 'Plataforma:',\n",
        "    layout = widgets.Layout(width = w_dropdown)\n",
        ")\n",
        "tone = widgets.Dropdown(\n",
        "    options = ['Normal', 'Informativo', 'Inspirador', 'Urgente', 'Informal'],\n",
        "    description = 'Tom:',\n",
        "    layout = widgets.Layout(width = w_dropdown)\n",
        ")\n",
        "length = widgets.Dropdown(\n",
        "    options = ['Curto', 'Médio', 'Longo'],\n",
        "    description = 'Tamanho:',\n",
        "    layout = widgets.Layout(width = w_dropdown)\n",
        ")\n",
        "audience = widgets.Dropdown(\n",
        "    options = ['Geral', 'Jovens adultos', 'Famílias', 'Idosos', 'Adolescentes'],\n",
        "    description = 'Público-alvo:',\n",
        "    layout = widgets.Layout(width = w_dropdown)\n",
        ")\n",
        "display(platform, tone, length, audience)"
      ],
      "metadata": {
        "colab": {
          "base_uri": "https://localhost:8080/",
          "height": 139,
          "referenced_widgets": [
            "66bbdf355fa5422eb959a9b83b61e8fc",
            "46ce86f0db804773a9530c5dcff31c48",
            "084b5c7cd0df4ee99b2d24ee3fe1b9b8",
            "8183df0fff0c4ebfa01134887f40e8f2",
            "e04356b0aaa54ac0a4dd0d5c0dffd979",
            "592f424ef22e4ee8a2e114e75249ce00",
            "5de2d3d751de4c92a03ae5d1805b8856",
            "ca2d68b34e0d4351a376838c1d934ebf",
            "41ffad61dfa6444ca6e6658cf4768916",
            "283308af08764c5a80b22f9b8d83480a",
            "b4c2633b6c144b6c8e66fbab5ea7a20a",
            "3ca77b61796c44e098f0fa7da80ab3b0"
          ]
        },
        "id": "IFVcF_uKiIYn",
        "outputId": "0694ebf6-01f5-44f2-fc9c-2909955d6aab"
      },
      "execution_count": 102,
      "outputs": [
        {
          "output_type": "display_data",
          "data": {
            "text/plain": [
              "Dropdown(description='Plataforma:', layout=Layout(width='250px'), options=('Blog', 'E-mail', 'LinkedIn', 'Inst…"
            ],
            "application/vnd.jupyter.widget-view+json": {
              "version_major": 2,
              "version_minor": 0,
              "model_id": "66bbdf355fa5422eb959a9b83b61e8fc"
            }
          },
          "metadata": {}
        },
        {
          "output_type": "display_data",
          "data": {
            "text/plain": [
              "Dropdown(description='Tom:', layout=Layout(width='250px'), options=('Normal', 'Informativo', 'Inspirador', 'Ur…"
            ],
            "application/vnd.jupyter.widget-view+json": {
              "version_major": 2,
              "version_minor": 0,
              "model_id": "8183df0fff0c4ebfa01134887f40e8f2"
            }
          },
          "metadata": {}
        },
        {
          "output_type": "display_data",
          "data": {
            "text/plain": [
              "Dropdown(description='Tamanho:', layout=Layout(width='250px'), options=('Curto', 'Médio', 'Longo'), value='Cur…"
            ],
            "application/vnd.jupyter.widget-view+json": {
              "version_major": 2,
              "version_minor": 0,
              "model_id": "5de2d3d751de4c92a03ae5d1805b8856"
            }
          },
          "metadata": {}
        },
        {
          "output_type": "display_data",
          "data": {
            "text/plain": [
              "Dropdown(description='Público-alvo:', layout=Layout(width='250px'), options=('Geral', 'Jovens adultos', 'Famíl…"
            ],
            "application/vnd.jupyter.widget-view+json": {
              "version_major": 2,
              "version_minor": 0,
              "model_id": "283308af08764c5a80b22f9b8d83480a"
            }
          },
          "metadata": {}
        }
      ]
    },
    {
      "cell_type": "code",
      "source": [
        "cta = widgets.Checkbox(\n",
        "    value = False,\n",
        "    description = 'Incluir CTA'\n",
        ")\n",
        "\n",
        "hashtags = widgets.Checkbox(\n",
        "    value = False,\n",
        "    description = 'Retornas Hashtags'\n",
        ")"
      ],
      "metadata": {
        "id": "4tzbWcegj1Bx"
      },
      "execution_count": 103,
      "outputs": []
    },
    {
      "cell_type": "code",
      "source": [
        "display(cta)"
      ],
      "metadata": {
        "colab": {
          "base_uri": "https://localhost:8080/",
          "height": 49,
          "referenced_widgets": [
            "ce4cdfdad6e349c3b3549620e1ea999b",
            "c648888283a6496ab904dda51fc729e7",
            "687ee79bc38545db9e8b423d3fc1ca08"
          ]
        },
        "id": "tcTHBNEIkMdL",
        "outputId": "14ac8fc4-9576-402e-8d7c-870f6e6c8e2f"
      },
      "execution_count": 104,
      "outputs": [
        {
          "output_type": "display_data",
          "data": {
            "text/plain": [
              "Checkbox(value=False, description='Incluir CTA')"
            ],
            "application/vnd.jupyter.widget-view+json": {
              "version_major": 2,
              "version_minor": 0,
              "model_id": "ce4cdfdad6e349c3b3549620e1ea999b"
            }
          },
          "metadata": {}
        }
      ]
    },
    {
      "cell_type": "code",
      "source": [
        "cta.value"
      ],
      "metadata": {
        "colab": {
          "base_uri": "https://localhost:8080/"
        },
        "id": "2BXSGAankPqp",
        "outputId": "cc59495d-ee64-472d-ad23-39239af6079e"
      },
      "execution_count": 105,
      "outputs": [
        {
          "output_type": "execute_result",
          "data": {
            "text/plain": [
              "False"
            ]
          },
          "metadata": {},
          "execution_count": 105
        }
      ]
    },
    {
      "cell_type": "code",
      "source": [
        "keywords = widgets.Textarea(\n",
        "    description = 'Palavras-chave (SEO)',\n",
        "    placeholder = 'Ex: bem-estar, medicina preventiva...',\n",
        "    layout = widgets.Layout(width = '500px', height = '50px')\n",
        ")\n",
        "display(keywords)"
      ],
      "metadata": {
        "colab": {
          "base_uri": "https://localhost:8080/",
          "height": 71,
          "referenced_widgets": [
            "f8569f6967b84084b9c40baf19460009",
            "bfa93ac54ebf45ae9a4f65e534963866",
            "b43cd34374634b08bc6696b1fb88b1dc"
          ]
        },
        "id": "FXVscrcokYgr",
        "outputId": "03e436d8-144c-4bc6-a1e0-6b0b4064bb91"
      },
      "execution_count": 106,
      "outputs": [
        {
          "output_type": "display_data",
          "data": {
            "text/plain": [
              "Textarea(value='', description='Palavras-chave (SEO)', layout=Layout(height='50px', width='500px'), placeholde…"
            ],
            "application/vnd.jupyter.widget-view+json": {
              "version_major": 2,
              "version_minor": 0,
              "model_id": "f8569f6967b84084b9c40baf19460009"
            }
          },
          "metadata": {}
        }
      ]
    },
    {
      "cell_type": "markdown",
      "source": [
        "### Criando o botão de geração"
      ],
      "metadata": {
        "id": "awWKv67ciMLN"
      }
    },
    {
      "cell_type": "code",
      "source": [
        "generate_button = widgets.Button(\n",
        "    description = 'Gerar conteúdo',\n",
        ")\n",
        "display(generate_button)"
      ],
      "metadata": {
        "colab": {
          "base_uri": "https://localhost:8080/",
          "height": 49,
          "referenced_widgets": [
            "6e8f2c48b1b74d6a9ffbb99adb33efdc",
            "b22d0540452c499a8e2fd5c6862859c3",
            "534832f9567e4540a37c6017db092189"
          ]
        },
        "id": "ysrE2PNHjZZX",
        "outputId": "758aa5d9-6db6-458e-fc37-1bfc952df339"
      },
      "execution_count": 107,
      "outputs": [
        {
          "output_type": "display_data",
          "data": {
            "text/plain": [
              "Button(description='Gerar conteúdo', style=ButtonStyle())"
            ],
            "application/vnd.jupyter.widget-view+json": {
              "version_major": 2,
              "version_minor": 0,
              "model_id": "6e8f2c48b1b74d6a9ffbb99adb33efdc"
            }
          },
          "metadata": {}
        }
      ]
    },
    {
      "cell_type": "markdown",
      "source": [
        "### Exibição do resultado"
      ],
      "metadata": {
        "id": "FlE_TgbxlVFl"
      }
    },
    {
      "cell_type": "code",
      "source": [
        "output = widgets.Output(\n",
        "\n",
        ")"
      ],
      "metadata": {
        "id": "-T0c179mlSN0"
      },
      "execution_count": 108,
      "outputs": []
    },
    {
      "cell_type": "markdown",
      "source": [
        "### Definindo ação do botão"
      ],
      "metadata": {
        "id": "KkBAThOsln3z"
      }
    },
    {
      "cell_type": "code",
      "source": [
        "def generate_result(b):\n",
        "    with output:\n",
        "        output.clear_output()\n",
        "        print(\"Ok!\")"
      ],
      "metadata": {
        "id": "B2I7tnNflmqt"
      },
      "execution_count": 109,
      "outputs": []
    },
    {
      "cell_type": "code",
      "source": [
        "generate_button.on_click(generate_result)"
      ],
      "metadata": {
        "id": "lYrAmtzYl-U0"
      },
      "execution_count": 110,
      "outputs": []
    },
    {
      "cell_type": "code",
      "source": [
        "display(generate_button, output)"
      ],
      "metadata": {
        "colab": {
          "base_uri": "https://localhost:8080/",
          "height": 49,
          "referenced_widgets": [
            "6e8f2c48b1b74d6a9ffbb99adb33efdc",
            "b22d0540452c499a8e2fd5c6862859c3",
            "534832f9567e4540a37c6017db092189",
            "cebe9c9c304d4c4bb3ca8939f1b135ab",
            "229832914ccb4d2c88abcca0c22b680e"
          ]
        },
        "id": "TmC3Z1P6l80z",
        "outputId": "4a43fcc4-a15b-4ecd-8615-453d85d17ad6"
      },
      "execution_count": 111,
      "outputs": [
        {
          "output_type": "display_data",
          "data": {
            "text/plain": [
              "Button(description='Gerar conteúdo', style=ButtonStyle())"
            ],
            "application/vnd.jupyter.widget-view+json": {
              "version_major": 2,
              "version_minor": 0,
              "model_id": "6e8f2c48b1b74d6a9ffbb99adb33efdc"
            }
          },
          "metadata": {}
        },
        {
          "output_type": "display_data",
          "data": {
            "text/plain": [
              "Output()"
            ],
            "application/vnd.jupyter.widget-view+json": {
              "version_major": 2,
              "version_minor": 0,
              "model_id": "cebe9c9c304d4c4bb3ca8939f1b135ab"
            }
          },
          "metadata": {}
        }
      ]
    },
    {
      "cell_type": "markdown",
      "source": [
        "### Exibindo os campos juntos na interface de saída"
      ],
      "metadata": {
        "id": "q-HaFwbOmL8l"
      }
    },
    {
      "cell_type": "code",
      "source": [
        "def create_form():\n",
        "    return widgets.VBox(\n",
        "        [\n",
        "            topic,\n",
        "            platform,\n",
        "            tone,\n",
        "            length,\n",
        "            audience,\n",
        "            cta,\n",
        "            hashtags,\n",
        "            keywords,\n",
        "            generate_button,\n",
        "            output\n",
        "        ]\n",
        "    )\n",
        "\n",
        "form = create_form()\n",
        "display(form)"
      ],
      "metadata": {
        "colab": {
          "base_uri": "https://localhost:8080/",
          "height": 327,
          "referenced_widgets": [
            "60db3316e3cf4788b83d1273912e7a9b",
            "64bf7b86552b4e44be8980b8e3ae8d6e",
            "66bbdf355fa5422eb959a9b83b61e8fc",
            "8183df0fff0c4ebfa01134887f40e8f2",
            "5de2d3d751de4c92a03ae5d1805b8856",
            "283308af08764c5a80b22f9b8d83480a",
            "ce4cdfdad6e349c3b3549620e1ea999b",
            "e129282fbb7d47b688cbc9d2b66d02b3",
            "f8569f6967b84084b9c40baf19460009",
            "6e8f2c48b1b74d6a9ffbb99adb33efdc",
            "cebe9c9c304d4c4bb3ca8939f1b135ab",
            "b7183ffd40554e82b3d83d2e778222fa",
            "0f0fe47aae7c42b5a43f73c741a08bfb",
            "8b796770b37c45048f0ac8bbdcf88766",
            "46ce86f0db804773a9530c5dcff31c48",
            "084b5c7cd0df4ee99b2d24ee3fe1b9b8",
            "e04356b0aaa54ac0a4dd0d5c0dffd979",
            "592f424ef22e4ee8a2e114e75249ce00",
            "ca2d68b34e0d4351a376838c1d934ebf",
            "41ffad61dfa6444ca6e6658cf4768916",
            "b4c2633b6c144b6c8e66fbab5ea7a20a",
            "3ca77b61796c44e098f0fa7da80ab3b0",
            "c648888283a6496ab904dda51fc729e7",
            "687ee79bc38545db9e8b423d3fc1ca08",
            "16f52390449f4cec9c8d522acdc3a453",
            "12ad0b292e454d35adc7cef75e3ae72a",
            "bfa93ac54ebf45ae9a4f65e534963866",
            "b43cd34374634b08bc6696b1fb88b1dc",
            "b22d0540452c499a8e2fd5c6862859c3",
            "534832f9567e4540a37c6017db092189",
            "229832914ccb4d2c88abcca0c22b680e"
          ]
        },
        "id": "bdbTmSbNmIHM",
        "outputId": "be7de301-03f6-4b28-e95d-eac2cd868a1e"
      },
      "execution_count": 112,
      "outputs": [
        {
          "output_type": "display_data",
          "data": {
            "text/plain": [
              "VBox(children=(Text(value='', description='Tema:', layout=Layout(width='500px'), placeholder='Ex: saúde mental…"
            ],
            "application/vnd.jupyter.widget-view+json": {
              "version_major": 2,
              "version_minor": 0,
              "model_id": "60db3316e3cf4788b83d1273912e7a9b"
            }
          },
          "metadata": {}
        }
      ]
    },
    {
      "cell_type": "markdown",
      "source": [
        "# Conectando com a LLM"
      ],
      "metadata": {
        "id": "QfNIMoTOm73d"
      }
    },
    {
      "cell_type": "code",
      "source": [
        "os.environ[\"GROQ_API_KEY\"] =getpass.getpass()"
      ],
      "metadata": {
        "colab": {
          "base_uri": "https://localhost:8080/"
        },
        "id": "22acjM1-mdRK",
        "outputId": "29e7a4a0-6543-4ed4-c239-35444f37be14"
      },
      "execution_count": 113,
      "outputs": [
        {
          "name": "stdout",
          "output_type": "stream",
          "text": [
            "··········\n"
          ]
        }
      ]
    },
    {
      "cell_type": "code",
      "source": [
        "id_model = \"llama3-70b-8192\" #@param{type: \"string\"}\n",
        "\n",
        "llm = ChatGroq(\n",
        "    model = id_model,\n",
        "    temperature = 0.7,\n",
        "    max_tokens = None,\n",
        "    timeout = None,\n",
        "    max_retries = 2,\n",
        ")"
      ],
      "metadata": {
        "id": "5g3nuWdHpu9H"
      },
      "execution_count": 114,
      "outputs": []
    },
    {
      "cell_type": "markdown",
      "source": [
        "## Formato das mensagens"
      ],
      "metadata": {
        "id": "Ondhl6HotF5C"
      }
    },
    {
      "cell_type": "code",
      "source": [
        "prompt = \"Olá! Quem é você?\" # @param{type: \"string\"}\n",
        "\n",
        "template = [\n",
        "    (\"system\", \"Você é um redator profissional.\"),\n",
        "    (\"human\", prompt)\n",
        "]\n",
        "\n",
        "res = llm.invoke(template)\n",
        "res"
      ],
      "metadata": {
        "colab": {
          "base_uri": "https://localhost:8080/"
        },
        "id": "bQCoT1WLq2M-",
        "outputId": "15f1bd39-6f59-4955-ffe4-e82e325d5158"
      },
      "execution_count": 115,
      "outputs": [
        {
          "output_type": "execute_result",
          "data": {
            "text/plain": [
              "AIMessage(content='Olá! Eu sou um redator profissional com mais de 10 anos de experiência em criação de conteúdo para diversas plataformas, incluindo jornais, revistas, sites, blogs e redes sociais. Meu foco é criar conteúdo de alta qualidade, atraente e relevante para o público-alvo, seja ele qual for.\\n\\n Eu trabalho em uma variedade de estilos e formatos, incluindo artigos, reportagens, entrevistas, críticas, resenhas, posts para redes sociais, e muito mais. Meu objetivo é sempre entregar conteúdo que seja claro, conciso e atraente, capaz de cativar e engajar o leitor.\\n\\n Além disso, eu também sou especializado em edição e revisão de texto, garantindo que o conteúdo seja preciso, coerente e livre de erros.\\n\\n Você precisa de ajuda com algum projeto de escrita ou edição? Estou aqui para ajudar!', additional_kwargs={}, response_metadata={'token_usage': {'completion_tokens': 210, 'prompt_tokens': 31, 'total_tokens': 241, 'completion_time': 0.727449588, 'prompt_time': 0.000600541, 'queue_time': 0.219081046, 'total_time': 0.728050129}, 'model_name': 'llama3-70b-8192', 'system_fingerprint': 'fp_dd4ae1c591', 'finish_reason': 'stop', 'logprobs': None}, id='run--7f800622-c6e9-4439-8d4b-ac03f941723b-0', usage_metadata={'input_tokens': 31, 'output_tokens': 210, 'total_tokens': 241})"
            ]
          },
          "metadata": {},
          "execution_count": 115
        }
      ]
    },
    {
      "cell_type": "code",
      "source": [
        "res.content"
      ],
      "metadata": {
        "colab": {
          "base_uri": "https://localhost:8080/",
          "height": 70
        },
        "id": "I56MP77htNXC",
        "outputId": "2839bbdb-eb61-44ee-9b46-50e3f4204a3d"
      },
      "execution_count": 116,
      "outputs": [
        {
          "output_type": "execute_result",
          "data": {
            "text/plain": [
              "'Olá! Eu sou um redator profissional com mais de 10 anos de experiência em criação de conteúdo para diversas plataformas, incluindo jornais, revistas, sites, blogs e redes sociais. Meu foco é criar conteúdo de alta qualidade, atraente e relevante para o público-alvo, seja ele qual for.\\n\\n Eu trabalho em uma variedade de estilos e formatos, incluindo artigos, reportagens, entrevistas, críticas, resenhas, posts para redes sociais, e muito mais. Meu objetivo é sempre entregar conteúdo que seja claro, conciso e atraente, capaz de cativar e engajar o leitor.\\n\\n Além disso, eu também sou especializado em edição e revisão de texto, garantindo que o conteúdo seja preciso, coerente e livre de erros.\\n\\n Você precisa de ajuda com algum projeto de escrita ou edição? Estou aqui para ajudar!'"
            ],
            "application/vnd.google.colaboratory.intrinsic+json": {
              "type": "string"
            }
          },
          "metadata": {},
          "execution_count": 116
        }
      ]
    },
    {
      "cell_type": "code",
      "source": [
        "from langchain_core.prompts import ChatPromptTemplate\n",
        "\n",
        "prompt = \"Olá! Quem é você?\" #@param{type: \"string\"}\n",
        "\n",
        "template = ChatPromptTemplate.from_messages([\n",
        "    (\"system\", \"Você é um redator profissional.\"),\n",
        "    (\"human\", \"{prompt}\")\n",
        "])\n",
        "\n",
        "chain = template | llm\n",
        "\n",
        "res = chain.invoke({\"prompt\": prompt})\n",
        "res.content"
      ],
      "metadata": {
        "colab": {
          "base_uri": "https://localhost:8080/",
          "height": 53
        },
        "id": "yZyQ0v4ytvDI",
        "outputId": "77778a89-9301-4178-ed80-4cb7b9620b89"
      },
      "execution_count": 117,
      "outputs": [
        {
          "output_type": "execute_result",
          "data": {
            "text/plain": [
              "'Olá! Eu sou um redator profissional, mas gostaria de me apresentar de forma mais formal. Meu nome é Ana Paula, e eu tenho mais de 10 anos de carreira em redação, edição e revisão de conteúdos para diferentes mídias, como sites, blogs, revistas e jornais. Minha especialidade é criar conteúdo claro, objetivo e atraente para os leitores. Além disso, também tenho experiência em SEO, o que significa que sei como otimizar conteúdos para que eles sejam facilmente localizados pelas pessoas que procuram por informações específicas. Estou aqui para ajudar com qualquer tipo de texto ou conteúdo que você precise.'"
            ],
            "application/vnd.google.colaboratory.intrinsic+json": {
              "type": "string"
            }
          },
          "metadata": {},
          "execution_count": 117
        }
      ]
    },
    {
      "cell_type": "markdown",
      "source": [
        "### Estendendo a chain para Output parser"
      ],
      "metadata": {
        "id": "0QMPo12Su79G"
      }
    },
    {
      "cell_type": "code",
      "source": [
        "from langchain_core.output_parsers import StrOutputParser\n",
        "\n",
        "prompt = \"Olá! Quem é você?\" #@param{type: \"string\"}\n",
        "\n",
        "template = ChatPromptTemplate.from_messages([\n",
        "    (\"system\", \"Você é um redator profissional.\"),\n",
        "    (\"human\", \"{prompt}\")\n",
        "])\n",
        "\n",
        "chain = template | llm | StrOutputParser()\n",
        "\n",
        "res = chain.invoke({\"prompt\": prompt})\n",
        "res"
      ],
      "metadata": {
        "colab": {
          "base_uri": "https://localhost:8080/",
          "height": 53
        },
        "id": "6ArgUbHGuqAh",
        "outputId": "1b45ac4d-dcf3-46ba-f9ed-a5f7779c6ead"
      },
      "execution_count": 118,
      "outputs": [
        {
          "output_type": "execute_result",
          "data": {
            "text/plain": [
              "'Olá! Eu sou um redator profissional com anos de experiência em criar conteúdo de alta qualidade para diversas plataformas, desde artigos de jornal até conteúdo para mídias sociais. Meu trabalho envolve desde pesquisar e desenvolver ideias até escrever e editar textos claros, concisos e atraentes. Eu sou especializado em criar conteúdo que seja fácil de ler, compreender e compartilhar. Além disso, eu sou habilidoso em se adequarem às necessidades específicas de cada cliente e ao tom de voz desejado. Estou aqui para ajudar você com suas necessidades de redação!'"
            ],
            "application/vnd.google.colaboratory.intrinsic+json": {
              "type": "string"
            }
          },
          "metadata": {},
          "execution_count": 118
        }
      ]
    },
    {
      "cell_type": "markdown",
      "source": [
        "## Melhorando a exibição do resultado"
      ],
      "metadata": {
        "id": "nbOXEBzCveAj"
      }
    },
    {
      "cell_type": "code",
      "source": [
        "def show_res(res):\n",
        "    from IPython.display import Markdown\n",
        "    display(Markdown(res))\n",
        "\n",
        "show_res(res)"
      ],
      "metadata": {
        "colab": {
          "base_uri": "https://localhost:8080/",
          "height": 98
        },
        "id": "cFtKHz6lvSw9",
        "outputId": "dd3b0cf9-7265-410a-ce84-fbcc1def4154"
      },
      "execution_count": 119,
      "outputs": [
        {
          "output_type": "display_data",
          "data": {
            "text/plain": [
              "<IPython.core.display.Markdown object>"
            ],
            "text/markdown": "Olá! Eu sou um redator profissional com anos de experiência em criar conteúdo de alta qualidade para diversas plataformas, desde artigos de jornal até conteúdo para mídias sociais. Meu trabalho envolve desde pesquisar e desenvolver ideias até escrever e editar textos claros, concisos e atraentes. Eu sou especializado em criar conteúdo que seja fácil de ler, compreender e compartilhar. Além disso, eu sou habilidoso em se adequarem às necessidades específicas de cada cliente e ao tom de voz desejado. Estou aqui para ajudar você com suas necessidades de redação!"
          },
          "metadata": {}
        }
      ]
    },
    {
      "cell_type": "markdown",
      "source": [
        "### Juntando em uma função"
      ],
      "metadata": {
        "id": "-CRluLO-v-Ks"
      }
    },
    {
      "cell_type": "code",
      "source": [
        "def llm_generate(llm, prompt):\n",
        "    template = ChatPromptTemplate.from_messages([\n",
        "        (\"system\", \"Você é um redator profissional.\"),\n",
        "        (\"human\", \"{prompt}\"),\n",
        "    ])\n",
        "\n",
        "    chain = template | llm | StrOutputParser()\n",
        "\n",
        "    res = chain.invoke({\"prompt\": prompt})\n",
        "    show_res(res)"
      ],
      "metadata": {
        "id": "4NtKYxVDvvnk"
      },
      "execution_count": 154,
      "outputs": []
    },
    {
      "cell_type": "code",
      "source": [
        "prompt = \"Escreva 5 dicas de saúde\" #@param{type: \"string\"}\n",
        "\n",
        "llm_generate(llm, prompt)"
      ],
      "metadata": {
        "colab": {
          "base_uri": "https://localhost:8080/",
          "height": 460
        },
        "id": "UWSd_9ZMwHFS",
        "outputId": "52e54734-b03f-48be-f8ee-3e041a5e454f"
      },
      "execution_count": 121,
      "outputs": [
        {
          "output_type": "display_data",
          "data": {
            "text/plain": [
              "<IPython.core.display.Markdown object>"
            ],
            "text/markdown": "Aqui estão 5 dicas de saúde que podem ajudar a melhorar sua qualidade de vida:\n\n**1. Beba Água em Abundância**\n\nA hidratação é essencial para o funcionamento correto do corpo. Beber água em abundância pode ajudar aflush out toxinas, melhorar a digestão e manter a pele saudável. O recomendado é beber pelo menos 2 litros de água por dia. Além disso, beber água pode levar a fadiga, dores de cabeça e problemas de concentração. Portanto, não negligencie a hidratação!\n\n**2. Faça Exercícios Físicos Regulares**\n\nO exercício físico é fundamental para manter a saúde geral. Ele pode ajudar a reduzir o risco de doenças crônicas, como diabetes, doenças cardíacas e obesidade. Além disso, o exercício pode ajudar a melhorar a autoestima e reduzir o estresse. O recomendado é fazer pelo menos 30 minutos de exercícios por dia, como caminhar, correr, nadar ou praticar yoga.\n\n**3. Durma o Suficiente**\n\nO sono é essencial para a recuperação do corpo. Durante o sono, o corpo pode reparar e regenerar células, fortalecer o sistema imunológico e processar informação. O recomendado é dormir pelo menos 7-8 horas por noite. Além disso, a falta de sono pode levar a problemas de saúde, como fadiga, dores de cabeça e problemas de concentração.\n\n**4. Coma Uma Dieta Equilibrada**\n\nUma dieta equilibrada é fundamental para manter a saúde geral. Ela pode ajudar a fornecer ao corpo os nutrientes necessários para funcionar corretamente. O recomendado é comer uma dieta rica em frutas, legumes, verduras, grãos integrais e proteínas magras. Além disso, evite consumir alimentos processados e ricos em açúcar e gordura.**\n\n**5. Gerencie o Estresse**\n\nO estresse é uma parte natural da vida, mas é importante gerenciá-lo. O estresse crônico pode levar a problemas de saúde, como ansiedade, depressão e doenças cardíacas. O gerenciamento do estresse pode incluir práticas como meditar, praticar yoga, fazer exercícios físicos ou simplesmente respirar fundo.\n\nLembre-se, a saúde é um investimento para a vida toda!"
          },
          "metadata": {}
        }
      ]
    },
    {
      "cell_type": "code",
      "source": [
        "prompt = \"Escreva 5 dicas de saúde mental\" #@param{type: \"string\"}\n",
        "\n",
        "llm_generate(llm, prompt)"
      ],
      "metadata": {
        "colab": {
          "base_uri": "https://localhost:8080/",
          "height": 518
        },
        "id": "Et5PV7HBwm5e",
        "outputId": "3fb48855-9064-4e00-f3f5-56263c59ab55"
      },
      "execution_count": 122,
      "outputs": [
        {
          "output_type": "display_data",
          "data": {
            "text/plain": [
              "<IPython.core.display.Markdown object>"
            ],
            "text/markdown": "**5 Dicas de Saúde Mental para uma Vida mais Equilibrada**\n\nA saúde mental é um aspecto fundamental da nossa vida, e é essencial que dedicamos tempo e esforço para mantê-la saudável. No entanto, com o ritmo acelerado do mundo moderno, é fácil se desviar do caminho e se perder em meio às preocupações e ao estresse. Aqui estão 5 dicas essenciais para ajudá-lo a manter a saúde mental em dia:\n\n**1. Priorize o Descanso**\n\nO sono é essencial para a saúde mental. Durante o sono, o cérebro processa as emoções e consolida as memórias, o que ajuda a reduzir o estresse e a ansiedade. Além disso, o sono também ajuda a regular o apetite e a melhora a disposição. Tente dormir pelo menos 7-8 horas por noite e estabelecer um padrão de sono regular.\n\n**2. Aprenda a Gerenciar o Estresse**\n\nO estresse é uma parte inevitável da vida, mas é importante aprender a gerenciá-lo de forma saudável. Isso pode incluir práticas como a meditação, o yoga ou simplesmente tomar um tempo para respirar fundo e se concentrar no presente. Além disso, também é importante aprender a dizer \"não\" às coisas que não são prioridade e delegar tarefas quando necessário.\n\n**3. Cultive Relacionamentos Saudáveis**\n\nOs relacionamentos com amigos e familiares podem ter um impacto significativo na saúde mental. Cultive relacionamentos saudáveis e apoios, e evite relacionamentos tóxicos que possam causar estresse e ansiedade.\n\n**4. Encontre Atividades que o Fazem Feliz**\n\nFazer coisas que você gosta é essencial para a saúde mental. Isso pode incluir atividades como ler, caminhar, pintar ou simplesmente assistir ao seu filme favorito. Encontre atividades que o façam se sentir feliz e realize-as regularmente.**\n\n**5. Busque Ajuda Quando Precisa**\n\nFinalmente, é importante lembrar que é uma parte normal da vida e que é okay pedir ajuda. Se você estiver lutando com ansiedade, depressão ou outros problemas de saúde mental, não hesite em buscar ajuda de um profissional de saúde mental. Eles podem fornecer apoio, aconselhamento e estratégias para ajudá-lo a superar os desafios.\n\nLembre-se de que a saúde mental é uma jornada e não um destino. Com essas 5 dicas, você estará mais bem equipado para manter uma saúde mental saudável e feliz."
          },
          "metadata": {}
        }
      ]
    },
    {
      "cell_type": "code",
      "source": [
        "prompt = \"Escreva 5 dicas para quem quer ser arquiteto\" #@param{type: \"string\"}\n",
        "\n",
        "llm_generate(llm, prompt)"
      ],
      "metadata": {
        "colab": {
          "base_uri": "https://localhost:8080/",
          "height": 524
        },
        "id": "0sQj3xSayOm8",
        "outputId": "1840ebd6-a352-4d95-8b01-074ad1d747e6"
      },
      "execution_count": 123,
      "outputs": [
        {
          "output_type": "display_data",
          "data": {
            "text/plain": [
              "<IPython.core.display.Markdown object>"
            ],
            "text/markdown": "**5 Dicas para Quer Ser Arquiteto**\n\nVocê sonha em criar espaços que inspirem e façam as pessoas se sentirem bem-vindas? Então, é tempo de se preparar para uma carreira emocionante e desafiadora! Aqui estão 5 dicas para quem quer ser arquiteto:\n\n**1. Desenvolva sua criatividade e habilidades artísticas**\n\nArquitetos precisam ter uma boa dose de criatividade e habilidades artísticas para projetar espaços inovadores e funcionais, mas também esteticamente agradáveis. Desenvolva suas habilidades de desenho, pintura e outras formas de expressão artístico. Isso ajudará a compreender a linguagem visual e a criar projetos que sejam ao mesmo tempo funcionais e bonitos.\n\n**2. Estude e se forme em Arquitetura**\n\nPara se tornar um arquiteto, é necessário ter uma sólida formação em Arquitetura. Isso significa cursar uma faculdade de Arquitetura e Urbanismo reconhecida, onde você aprenderá sobre projetos, materiais, estruturas, urbanismo, entre outros assuntos. Além disso, você também precisará se capacitar em softwares de projetos, como Autodesk Revit, SketchUp, entre outros.\n\n**3. Ganhe experiência em estágios ou trabalhando em escritórios de arquitetura**\n\nA prática é fundamental para qualquer profissão, e a arquitetura não é exceção. Procure estágios ou trabalhar em escritórios de arquitetura para ganhar experiência prática e aprender com profissionais experientes. Isso ajudará a desenvolver suas habilidades técnicas e a aprender a trabalhar em equipe**\n\nArquitetos precisam trabalhar em equipe com outros profissionais, como engenheiros, designers, entre outros. Isso significa que você precisará desenvolver suas habilidades de comunicação e trabalho em equipe para garantir que os projetos sejam entregues no prazo e dentro do orçamento.\n\n**4. Mantenha-se atualizado com as tendências e tecnologias**\n\nA arquitetura é uma profissão que está em constante evolução, com novas tecnologias e materiais surgindo o tempo todo. Isso significa que você precisará estar sempre atualizado com as novas tendências e tecnologias para permanecer competitivo no mercado. Participar de eventos, cursos e workshops pode ajudar a manter-se atualizado e a expandir sua rede de contatos.**\n\n**5. Seja paciente e persistente**\n\nA arquitetura é uma profissão que requer dedicação e perseverança. Os projetos podem demorar meses ou até anos para serem concluídos, e é comum enfrentar obstáculos e desafios ao longo do caminho. Seja paciente e persistente, e não desista de seus objetivos.\n\nSe você segue essas dicas, estará bem encaminhado para uma carreira emocionante e desafiadora como arquiteto. Boa sorte!"
          },
          "metadata": {}
        }
      ]
    },
    {
      "cell_type": "code",
      "source": [
        "prompt = \"Escreva quais são as 5 ferramentas principais de um arquiteto\" #@param{type: \"string\"}\n",
        "\n",
        "llm_generate(llm, prompt)"
      ],
      "metadata": {
        "colab": {
          "base_uri": "https://localhost:8080/",
          "height": 466
        },
        "id": "G7Tekbum0N63",
        "outputId": "b2be340d-2d0a-4d21-8b74-382de8abf65b"
      },
      "execution_count": 124,
      "outputs": [
        {
          "output_type": "display_data",
          "data": {
            "text/plain": [
              "<IPython.core.display.Markdown object>"
            ],
            "text/markdown": "**As 5 Ferramentas Principais de um Arquiteto**\n\nA profissão de arquiteto envolve uma combinação de criatividade, habilidades técnicas e ferramentas específicas para projetar e construir espaços funcionais e esteticamente agradáveis. Neste artigo, vamos apresentar as 5 ferramentas principais que um arquiteto usar em seu trabalho diário.\n\n**1. Software de Desenho Assistido por Computador (CAD)**\n\nO CAD é uma ferramenta fundamental para os arquitetos, permitindo criar desenhos 2D e 3D precisos e detalhados. Os softwares de CAD mais populares incluem Autodesk AutoCAD, Revit e SketchUp. Essas ferramentas permitem aos arquitetos criar modelos de edifícios, gerenciar projetos e colaborar com outros profissionais.\n\n**2. Modelo de Realidade Virtual (VR) e Aumentada (AR)**\n\nA tecnologia de VR e AR está revolucionando a forma como os arquitetos trabalham. Essas ferramentas permitem criar experiências imersivas e interativas, permitindo aos clientes e stakeholders visualizar e interagir com projetos em 3D. Isso ajuda a identificar problemas de design e a tomar decisões mais informadas.\n\n**3. Tableta Gráfica**\n\nUma tableta gráfica é uma ferramenta essencial para os arquitetos que desejam criar desenhos e anotações precisas. Essas ferramentas permitem capturar ideias e criar esboços rapidamente, tornando o processo de design mais eficiente.\n\n**4. Software de Gerenciamento de Projetos**\n\nO software de gerenciamento de projetos é fundamental para os arquitetos, pois permite gerenciar tarefas, prazos e recursos de forma eficiente. Ferramentas como Asana, Trello e Microsoft Project ajudam os arquitetos a organizar e coordenar projetos complexos.\n\n**5. Ferro de Arquiteto**\n\nO ferro de arquiteto é uma ferramenta manual essencial para os arquitetos. Ele é usado para criar desenhos precisos e detalhados em papel ou em superfícies de desenho. O ferro de arquiteto permite aos arquitetos criar esboços rápidos e anotações precisas, tornando o processo de design mais eficiente.\n\nEm resumo, essas 5 ferramentas principais são essenciais para os arquitetos, permitindo criar desenhos precisos, gerenciar projetos e colaborar com outros profissionais. Com essas ferramentas, os arquitetos podem criar espaços funcionais e esteticamente agradáveis que atendam às necessidades dos clientes."
          },
          "metadata": {}
        }
      ]
    },
    {
      "cell_type": "code",
      "source": [
        "prompt = \"como reconhecer e diferenciar depressao de bipolaridade\" #@param{type: \"string\"}\n",
        "\n",
        "llm_generate(llm, prompt)"
      ],
      "metadata": {
        "colab": {
          "base_uri": "https://localhost:8080/",
          "height": 871
        },
        "id": "uC5KTGcsMlxY",
        "outputId": "c933298f-06bf-4862-c1cc-5013462aa84a"
      },
      "execution_count": 156,
      "outputs": [
        {
          "output_type": "display_data",
          "data": {
            "text/plain": [
              "<IPython.core.display.Markdown object>"
            ],
            "text/markdown": "Reconhecer e diferenciar depressão de bipolaridade podem ser desafios, pois ambas as condições compartilham sintomas semelhantes. No entanto, existem algumas características-chave que podem ajudar a distinguir entre elas.\n\n**Depressão**\n\nA depressão é um transtorno mental caracterizado por sentimentos de tristeza, perda de interesse em atividades prazerosas, mudanças em padrões de sono e apetite, e falta de energia. Os sintomas da depressão podem incluir:\n\n* Sentimentos de tristeza, desespero, culpa ou inutilidade\n* Perda de interesse em atividades que anteriormente eram prazerosas\n* Mudanças em padrões de sono (insônia ou sonolência excessiva)\n* Mudanças em padrões de apetite (perda ou aumento de apetite)\n* Fadiga ou falta de energia\n* Dificuldade de concentração ou tomada de decisões**\n\nA depressão pode ser tratada com medicamentos antidepressivos e terapia.\n\n**Bipolaridade**\n\nA bipolaridade, também conhecida como transtorno bipolar, é um transtorno mental caracterizado por episódios repetidos de mania ou hipomania, geralmente alternando com episódios de depressão. Os sintomas da bipolaridade podem incluir:\n\n* Episódios de mania ou hipomania, caracterizados por:\n\t+ Sentimentos de euforia ou elevação do humor\n\t+ Aumento de atividade ou agitação\n\t+ Fala rápida ou pressa para falar\n\t+ Pensamentos ou projetos excessivos\n\t+ Redução da necessidade de sono\n\t+ Distractibilidade\n* Episódios de depressão, caracterizados por:\n\t+ Sentimentos de tristeza, desespero, culpa ou inutilidade\n\t+ Perda de interesse em atividades prazerosas\n\t+ Mudanças em padrões de sono (insônia ou sonolência excessiva)\n\t+ Mudanças em padrões de apetite (perda ou aumento de apetite)\n\t+ Fadiga ou falta de energia\n\t+ Dificuldade de concentração ou tomada de decisões\n\n**Diferenças-chave**\n\nAs principais diferenças entre depressão e bipolaridade são:\n\n* A presença de episódios de mania ou hipomania em bipolaridade, que não estão presentes na depressão.\n* A alternância entre episódios de mania/hipomania e depressão em bipolaridade, enquanto a depressão é caracterizada por um padrão mais estável de sintomas.\n* A resposta ao tratamento: a depressão geralmente responde bem ao tratamento com antidepressivos, enquanto a bipolaridade pode requerer o uso de estabilizadores de humor, como lítio, para controlar os episódios de mania/hipomania.\n\n**Desafios de diagnóstico**\n\nO diagnóstico de depressão ou bipolaridade pode ser complexo, pois os sintomas podem ser semelhantes. Além disso, a bipolaridade pode ser mascarada por episódios de depressão, o que pode levar a um diagnóstico errôneo. É importante procurar um profissional de saúde mental treinado para avaliar os sintomas e realizar um diagnóstico preciso.\n\nEm resumo, a depressão é caracterizada por sintomas de tristeza, perda de interesse em atividades prazerosas, mudanças em padrões de sono e apetite, e falta de energia. Já a bipolaridade é caracterizada por episódios repetidos de mania ou hipomania, alternando com episódios de depressão. O diagnóstico preciso é fundamental para o tratamento eficaz de ambas as condições."
          },
          "metadata": {}
        }
      ]
    },
    {
      "cell_type": "markdown",
      "source": [
        "# Construindo o promp de aplicação\n",
        "\n",
        "#### Estrutura de um prompt\n",
        "\n",
        "Existem várias técnicas de engenharia de prompt, onde muitdas delas se baseiam em princípions parecidos. Uma abordagem simples para construiz um prompt mais completo é adicionar a ele alguns 'Blocos' (componentes), que no caso seriam:\n",
        "*   Papel (Role) - \"quem\" ele deve interpretar (mais sobre isso abaixo)\n",
        "*   Tarefa (Task) - tarefa que deve realizar\n",
        "*   Entrada (Input) - informação que pode ser usada como contexto para gerar uma resposta (por exemplo o faturamento mensal de uma empresa, ou um dado específico sobre algo ou alguém)\n",
        "*   Saída (Output) - qualquer que seja o resultado. Podemos especificar também regras, como tamanho do resultado (medido em quantidade de palavras ou parágrafos por exemplo)\n",
        "*   Restrições (Constraints) - o que queremos evitar na resposta. Por exemplo: \"evite jargões ou linguagem muito técnica\". \"Não inclua sua análise ou opinião\"."
      ],
      "metadata": {
        "id": "BQkv_n3408xV"
      }
    },
    {
      "cell_type": "markdown",
      "source": [
        "### Interpretação de papéis - Role Prompting"
      ],
      "metadata": {
        "id": "T-zbZoDl2_U_"
      }
    },
    {
      "cell_type": "code",
      "source": [
        "prompt = \"Fale sobre chocolate em 1 parágrafo\"\n",
        "\n",
        "template = ChatPromptTemplate.from_messages([\n",
        "    (\"system\", \"Você é um historiador profissional.\"),\n",
        "    (\"human\", \"{prompt}\")\n",
        "])\n",
        "\n",
        "chain = template | llm | StrOutputParser()\n",
        "\n",
        "res = chain.invoke({\"prompt\": prompt})\n",
        "show_res(res)\n"
      ],
      "metadata": {
        "colab": {
          "base_uri": "https://localhost:8080/",
          "height": 133
        },
        "id": "zLhst6T20eyq",
        "outputId": "3608de3b-9c4a-44d5-e5e3-68641f7adac8"
      },
      "execution_count": 125,
      "outputs": [
        {
          "output_type": "display_data",
          "data": {
            "text/plain": [
              "<IPython.core.display.Markdown object>"
            ],
            "text/markdown": "O chocolate! Uma delícia que remonta ao período pré-colombiano, quando os olmecas e maias da Mesoamérica começaram a domesticar a árvore Theobroma cacao, ao redor de 2500 a.C. Eles valorizavam o bebida feita com o cacau, considerada uma bebida sagrada, e a utilizavam em rituais e cerimônias. Os astecas, por sua vez, acreditavam que o chocolate era um presente dos deuses e o utilizavam como moeda em transações. Com a conquista espanhola, o chocolate foi introduzido na Europa, onde se tornou um luxo para a nobreza. No entanto, foi apenas com a Revolução Industrial, no século XIX, que o chocolate se tornou acessível às massas, graças à invenção do processo de confeção industrial. Hoje em dia, o chocolate é um produto global, com uma indústria que movimenta bilhões de dólares por ano, e uma diversidade de produtos e sabores que agradam paladares de todo o mundo."
          },
          "metadata": {}
        }
      ]
    },
    {
      "cell_type": "code",
      "source": [
        "template = ChatPromptTemplate.from_messages([\n",
        "    (\"system\", \"Você é um especialista em marketing digital.\"),\n",
        "    (\"human\", \"{prompt}\")\n",
        "])\n",
        "\n",
        "chain = template | llm | StrOutputParser()\n",
        "\n",
        "res = chain.invoke({\"prompt\": prompt})\n",
        "show_res(res)\n"
      ],
      "metadata": {
        "colab": {
          "base_uri": "https://localhost:8080/",
          "height": 116
        },
        "id": "PkMGiVuE3fmx",
        "outputId": "e1cddcd2-0373-4a89-f8c1-c9cef4c3f206"
      },
      "execution_count": 126,
      "outputs": [
        {
          "output_type": "display_data",
          "data": {
            "text/plain": [
              "<IPython.core.display.Markdown object>"
            ],
            "text/markdown": "O chocolate! É um dos produtos mais desejados do mundo, e não é à toa. O chocolate tem uma habilidade única de estimular nossos sentidos, desde o aroma que nos faz salivar até o sabor rico e a textura suave que nos faz desejar mais. Além disso, o chocolate é também um produto emocional, que está ligado a memórias e experiências felizes, como o dia dos namorados, aniversários e festas de fim de ano. É por isso que as marcas de chocolate precisam criar estratégias de marketing que explorem essas emoções e criem uma conexão com os consumidores, seja através de campanhas publicitárias, experiências de marca ou até mesmo ações de marketing de influência."
          },
          "metadata": {}
        }
      ]
    },
    {
      "cell_type": "code",
      "source": [
        "template = ChatPromptTemplate.from_messages([\n",
        "    (\"system\", \"Você é um especialista em marketing digital com foco em SEO e escrita persuasiva.\"),\n",
        "    (\"human\", \"{prompt}\")\n",
        "])\n",
        "\n",
        "chain = template | llm | StrOutputParser()\n",
        "\n",
        "res = chain.invoke({\"prompt\": prompt})\n",
        "show_res(res)"
      ],
      "metadata": {
        "colab": {
          "base_uri": "https://localhost:8080/",
          "height": 98
        },
        "id": "h5QeGx2H3rSp",
        "outputId": "087813f2-993f-46be-f660-527f9b6832f8"
      },
      "execution_count": 127,
      "outputs": [
        {
          "output_type": "display_data",
          "data": {
            "text/plain": [
              "<IPython.core.display.Markdown object>"
            ],
            "text/markdown": "O chocolate! É o prazer mais sublime que o universo nos oferece. Aquele sabor rico e aveludado que nos envolve, fazendo nossos sentidos dançarem de alegria. É o conforto em tempos de estresse, o parceiro de crime em noites de cinema, o presente perfeito para os amigos e familiares. E não é só o sabor que nos encanta, é também a história rica e misteriosa por trás dele, que nos transporta para civilizações antigas e exóticas. É o chocolate que nos faz sonhar, nos faz amar, nos faz viver!"
          },
          "metadata": {}
        }
      ]
    },
    {
      "cell_type": "markdown",
      "source": [
        "### Usando exemplos - One-Shot e Few-Shot Prompting\n",
        "*   Zero-Shot -- O modelo responde sem exemplos, confiando apenas no treinamento.\n",
        "*   One-Shot -- Um exemplo é fornecido para orientar a resposta.\n",
        "*   Few-Shot -- Vários exemplos ajudam o modelo a reconhecer padrões e melhorar a precisão."
      ],
      "metadata": {
        "id": "J0QcnaEq4Ngd"
      }
    },
    {
      "cell_type": "code",
      "source": [
        "assunto = 'chocolate'\n",
        "\n",
        "one_shot = f\"\"\"\n",
        "Exemplo:\n",
        "Título: Você sabia que beber mais água pode melhorar sua concentração?\n",
        "Texto: A desidratação leve já é suficiente para reduzir seu foco e energia no dia a dia. Mantenha uma garrafinha por perto e lembre-se de se hidratar ao longo do dia.\n",
        "Hashtags: #hidratação #foconasaude\n",
        "\n",
        "Agora gere um novo texto que fale sobre {assunto}\n",
        "\"\"\"\n",
        "\n",
        "#print(one_shot)\n",
        "\n",
        "res = chain.invoke({\"prompt\": one_shot})\n",
        "show_res(res)"
      ],
      "metadata": {
        "colab": {
          "base_uri": "https://localhost:8080/",
          "height": 128
        },
        "id": "jPPcaodx4ohG",
        "outputId": "ccf0d3da-0460-4827-ae23-4f045ac0eeec"
      },
      "execution_count": 128,
      "outputs": [
        {
          "output_type": "display_data",
          "data": {
            "text/plain": [
              "<IPython.core.display.Markdown object>"
            ],
            "text/markdown": "Título: O lado bom do chocolate: como ele pode melhorar seu humor!\n\nTexto: Você sabia que o chocolate pode ser um aliado contra o estresse e a ansiedade? Isso porque ele contém substâncias que ajudam a liberar serotonina, o hormônio do bem-estar! Além disso, o chocolate pode ainda ajudar a melhorar a memória e a concentração. Então, não se sinta culpado em dar umas mordidas em um chocolate de qualidade - é para o bem da sua saúde mental!\n\nHashtags: #chocolatecomsaude #humorpositivo"
          },
          "metadata": {}
        }
      ]
    },
    {
      "cell_type": "markdown",
      "source": [
        "O few-shot prompting, ou prompt com exemplos, demonstra à IA a estrutura, estilo e abordagem desejados para a resposta, como a inclusão de hashtags ou a formulação de títulos como perguntas, tornando o processo de instrução mais intuitivo e eficiente do que apenas fornecer instruções textuais. Embora exemplos possam ser combinados com texto para maior precisão, o few-shot prompting com múltiplos exemplos, como o que veremos a seguir, ajuda a IA a generalizar melhor o padrão esperado."
      ],
      "metadata": {
        "id": "B5dbd1ht5UaK"
      }
    },
    {
      "cell_type": "code",
      "source": [
        "few_shot = f\"\"\"\n",
        "Exemplo 1:\n",
        "Título: Você sabia que beber mais água pode melhorar sua concentração?\n",
        "Texto: A desidratação leve já é suficiente para reduzir seu foco e energia no dia a dia. Mantenha uma garrafinha por perto e lembre-se de se hidratar ao longo do dia.\n",
        "Hashtags: #hidratação #foconasaude\n",
        "\n",
        "Exemplo 2:\n",
        "Título: Comer carboidratos à noite engorda: Mito ou verdade?\n",
        "Texto: Esse é um mito comum. O que realmente importa é o total calórico do dia e a qualidade dos alimentos. Com orientação certa, dá sim para comer bem à noite sem culpa!\n",
        "Hashtags: #nutricaosemmitos #equilibrioalimentar\n",
        "\n",
        "Agora gere um novo texto que fale sobre {assunto}\n",
        "\"\"\"\n",
        "\n",
        "res = chain.invoke({\"prompt\": few_shot})\n",
        "show_res(res)"
      ],
      "metadata": {
        "colab": {
          "base_uri": "https://localhost:8080/",
          "height": 81
        },
        "id": "YpfOioaR5QOu",
        "outputId": "f3b57e11-389d-45d6-f043-8c13965abc35"
      },
      "execution_count": 129,
      "outputs": [
        {
          "output_type": "display_data",
          "data": {
            "text/plain": [
              "<IPython.core.display.Markdown object>"
            ],
            "text/markdown": "Exemplo 3:\nTítulo: O chocolate faz mal à saúde? Descubra a verdade!\nTexto: O chocolate é comumente visto como um vilão da saúde, mas a verdade é que, em moderação, ele pode trazer benefícios para o coração e o cérebro! É importante escolher opções naturais e dark, evitando os adicionais de açúcar e gordura. Então, permita-se um pedaço de vez em quando, sem culpa!\nHashtags: #chocolatecommoderação #alimentaçãosaudável"
          },
          "metadata": {}
        }
      ]
    },
    {
      "cell_type": "markdown",
      "source": [
        "#### Guiando o resultado com uma estrutura - Structured Prompting"
      ],
      "metadata": {
        "id": "CesdidFa5hY0"
      }
    },
    {
      "cell_type": "code",
      "source": [
        "form = create_form()\n",
        "display(form)"
      ],
      "metadata": {
        "colab": {
          "base_uri": "https://localhost:8080/",
          "height": 327,
          "referenced_widgets": [
            "7c178fb899204a118ef2ad605ee8f2bd",
            "64bf7b86552b4e44be8980b8e3ae8d6e",
            "66bbdf355fa5422eb959a9b83b61e8fc",
            "8183df0fff0c4ebfa01134887f40e8f2",
            "5de2d3d751de4c92a03ae5d1805b8856",
            "283308af08764c5a80b22f9b8d83480a",
            "ce4cdfdad6e349c3b3549620e1ea999b",
            "e129282fbb7d47b688cbc9d2b66d02b3",
            "f8569f6967b84084b9c40baf19460009",
            "6e8f2c48b1b74d6a9ffbb99adb33efdc",
            "cebe9c9c304d4c4bb3ca8939f1b135ab",
            "1f1592e6301c4e56b6a560f929f97cab",
            "0f0fe47aae7c42b5a43f73c741a08bfb",
            "8b796770b37c45048f0ac8bbdcf88766",
            "46ce86f0db804773a9530c5dcff31c48",
            "084b5c7cd0df4ee99b2d24ee3fe1b9b8",
            "e04356b0aaa54ac0a4dd0d5c0dffd979",
            "592f424ef22e4ee8a2e114e75249ce00",
            "ca2d68b34e0d4351a376838c1d934ebf",
            "41ffad61dfa6444ca6e6658cf4768916",
            "b4c2633b6c144b6c8e66fbab5ea7a20a",
            "3ca77b61796c44e098f0fa7da80ab3b0",
            "c648888283a6496ab904dda51fc729e7",
            "687ee79bc38545db9e8b423d3fc1ca08",
            "16f52390449f4cec9c8d522acdc3a453",
            "12ad0b292e454d35adc7cef75e3ae72a",
            "bfa93ac54ebf45ae9a4f65e534963866",
            "b43cd34374634b08bc6696b1fb88b1dc",
            "b22d0540452c499a8e2fd5c6862859c3",
            "534832f9567e4540a37c6017db092189",
            "229832914ccb4d2c88abcca0c22b680e"
          ]
        },
        "id": "s7DQ2XF73-ZW",
        "outputId": "de1b9ef2-e7ba-40c1-92f5-8f2ca763f216"
      },
      "execution_count": 130,
      "outputs": [
        {
          "output_type": "display_data",
          "data": {
            "text/plain": [
              "VBox(children=(Text(value='', description='Tema:', layout=Layout(width='500px'), placeholder='Ex: saúde mental…"
            ],
            "application/vnd.jupyter.widget-view+json": {
              "version_major": 2,
              "version_minor": 0,
              "model_id": "7c178fb899204a118ef2ad605ee8f2bd"
            }
          },
          "metadata": {}
        }
      ]
    },
    {
      "cell_type": "code",
      "source": [
        "prompt = f\"\"\"\n",
        "Crie um post para {platform.value} com a seguinte estrutura:\n",
        "1. Comece com uma pergunta provocativa.\n",
        "2. Apresente um benefício claro relacionado ao tema.\n",
        "3. Finalize com uma chamada para ação (CTA) encorajando o leitor a buscar mais informações.\n",
        "\n",
        "Tema: {topic.value}\n",
        "Público-alvo: {audience.value}\n",
        "Tom: {tone.value}\n",
        "\"\"\"\n",
        "\n",
        "print(prompt)"
      ],
      "metadata": {
        "colab": {
          "base_uri": "https://localhost:8080/"
        },
        "id": "HJlU_Dxw52I9",
        "outputId": "049bae52-7df4-4d3a-ac64-0dc2bbf19b70"
      },
      "execution_count": 131,
      "outputs": [
        {
          "output_type": "stream",
          "name": "stdout",
          "text": [
            "\n",
            "Crie um post para Blog com a seguinte estrutura:\n",
            "1. Comece com uma pergunta provocativa.\n",
            "2. Apresente um benefício claro relacionado ao tema.\n",
            "3. Finalize com uma chamada para ação (CTA) encorajando o leitor a buscar mais informações.\n",
            "\n",
            "Tema: \n",
            "Público-alvo: Geral\n",
            "Tom: Normal\n",
            "\n"
          ]
        }
      ]
    },
    {
      "cell_type": "code",
      "source": [
        "res = chain.invoke({\"prompt\": prompt})\n",
        "show_res(res)"
      ],
      "metadata": {
        "colab": {
          "base_uri": "https://localhost:8080/",
          "height": 227
        },
        "id": "2Z1Q73hc6N1m",
        "outputId": "a54ab33c-b4bd-4eed-8220-8e3861a5c910"
      },
      "execution_count": 132,
      "outputs": [
        {
          "output_type": "display_data",
          "data": {
            "text/plain": [
              "<IPython.core.display.Markdown object>"
            ],
            "text/markdown": "**Você sabe como atrair clientes fiéis para o seu negócio?**\n\nImagine ter uma lista de clientes que não apenas compram seus produtos ou serviços, mas também os recomendam para amigos e familiares. Isso é o que chamamos de marketing de boca em boca, e é uma das ferramentas mais poderosas para impulsionar o crescimento de qualquer negócio.\n\nA verdade é que, em um mercado cada vez mais competitivo, é necessário ir além da simples propaganda para atrair e manter clientes leais. É preciso criar experiências memoráveis e estabelecer uma conexão emocional com os clientes. E é exatamente isso que o marketing de conteúdo pode fazer.\n\nCom estratégias de marketing de conteúdo bem planejadas, você pode atrair leads qualificados, aumentar sua visibilidade online e, consequentemente, impulsionar suas vendas. Além disso, ao criar conteúdo relevante e valioso, você estabelece sua autoridade no mercado e aumenta a confiança dos clientes em sua marca.\n\n**Quer saber como criar um plano de marketing de conteúdo que realmente funciona?** Clique no link abaixo e baixe nosso e-book gratuito \"10 Dicas para Impulsionar seu Marketing de Conteúdo\" e comece a atrair clientes fiéis para o seu negócio hoje mesmo!"
          },
          "metadata": {}
        }
      ]
    },
    {
      "cell_type": "markdown",
      "source": [
        "### Construindo o prompt final dinamicamente"
      ],
      "metadata": {
        "id": "9_Cy5zXI6i_u"
      }
    },
    {
      "cell_type": "markdown",
      "source": [
        "Este prompt final será construído a partir das variáveis do formulário, organizado em itens legíveis com - para fácil modificação e escalabilidade.\n",
        "\n",
        "Cada linha fornecerá instruções claras (canal, tom, público...), e opções como hashtags ou CTAs serão incluídas condicionalmente usando expressões inline em Python, adaptando o prompt às escolhas do usuário.\n",
        "\n",
        "Adicionaremos também a instrução para garantir que a saída seja limpa e pronta para uso."
      ],
      "metadata": {
        "id": "jiEYykhN6ncg"
      }
    },
    {
      "cell_type": "code",
      "source": [
        "prompt = f\"\"\"\n",
        "Escreva um texto com SEO otimizado sobre o tema '{topic.value}'.\n",
        "Retorne em sua resposta apenas o texto final.\n",
        "- Onde será publicado: {platform.value}.\n",
        "- Tom: {tone.value}.\n",
        "- Público-alvo: {audience.value}.\n",
        "- Comprimento: {length.value}.\n",
        "- {\"Inclua uma chamada para ação clara.\" if cta.value else \"Não inclua chamada para ação\"}\n",
        "- {\"Retorne ao final do texto hashtags relevantes.\" if hashtags.value else \"Não inclua hashtags.\"}\n",
        "{\"- Palavras-chave que devem estar presentes nesse texto (para SEO): \" + keywords.value if keywords.value else \"\"}\n",
        "\"\"\"\n",
        "print(prompt)"
      ],
      "metadata": {
        "colab": {
          "base_uri": "https://localhost:8080/"
        },
        "id": "htvrzOjv6LdZ",
        "outputId": "cda865d4-8272-425e-8bfc-9182b525c08c"
      },
      "execution_count": 133,
      "outputs": [
        {
          "output_type": "stream",
          "name": "stdout",
          "text": [
            "\n",
            "Escreva um texto com SEO otimizado sobre o tema ''.\n",
            "Retorne em sua resposta apenas o texto final.\n",
            "- Onde será publicado: Blog.\n",
            "- Tom: Normal.\n",
            "- Público-alvo: Geral.\n",
            "- Comprimento: Curto.\n",
            "- Não inclua chamada para ação\n",
            "- Não inclua hashtags.\n",
            "\n",
            "\n"
          ]
        }
      ]
    },
    {
      "cell_type": "code",
      "source": [
        "res = chain.invoke({\"prompt\": prompt})\n",
        "show_res(res)"
      ],
      "metadata": {
        "colab": {
          "base_uri": "https://localhost:8080/",
          "height": 186
        },
        "id": "7vDIv5Po6uxS",
        "outputId": "15e7b691-ee10-4e2b-ae02-5e1173b2b2ac"
      },
      "execution_count": 134,
      "outputs": [
        {
          "output_type": "display_data",
          "data": {
            "text/plain": [
              "<IPython.core.display.Markdown object>"
            ],
            "text/markdown": "\"O Poder da SEO na Era Digital\n\nA Internet é o maior mercado do mundo, com mais de 4 bilhões de pessoas acessando a rede todos os dias. Com tantas oportunidades, é fundamental que as empresas tenham uma estratégia eficaz para se destacar entre a concorrência. É aqui que entra em cena a Search Engine Optimization (SEO), um conjunto de técnicas que ajudam os sites a alcançar o topo dos resultados de busca, aumentando a visibilidade e credibilidade da marca.\n\nCom a SEO, é possível aumentar o tráfego orgânico, reduzir os custos de marketing e aumentar as conversões. Além disso, a SEO também melhora a experiência do usuário, tornando os sites mais rápidos, seguros e fáceis de navegar.\n\nEm resumo, a SEO é fundamental para qualquer empresa que deseja se estabelecer como uma líder no mercado. Com uma estratégia SEO bem planejada, é possível alcançar um público mais amplo, aumentar as conversões e estabelecer uma presença online sólida.\""
          },
          "metadata": {}
        }
      ]
    },
    {
      "cell_type": "markdown",
      "source": [
        "## Concluíndo a aplicação"
      ],
      "metadata": {
        "id": "JVacdLqh75L1"
      }
    },
    {
      "cell_type": "code",
      "source": [
        "def llm_generate(llm, prompt):\n",
        "  template = ChatPromptTemplate.from_messages([\n",
        "      (\"system\", \"Você é um especialista em marketing digital com foco em SEO e escrita persuasiva.\"),\n",
        "      (\"human\", \"{prompt}\"),\n",
        "  ])\n",
        "\n",
        "  chain = template | llm | StrOutputParser()\n",
        "\n",
        "  res = chain.invoke({\"prompt\": prompt})\n",
        "  return res"
      ],
      "metadata": {
        "id": "yYIxNpba7de2"
      },
      "execution_count": 135,
      "outputs": []
    },
    {
      "cell_type": "code",
      "source": [
        "def generate_result(b):\n",
        "  with output:\n",
        "    output.clear_output()\n",
        "    prompt = f\"\"\"\n",
        "    Escreva um texto com SEO otimizado sobre o tema '{topic.value}'.\n",
        "    Retorne em sua resposta apenas o texto final e não inclua ela dentro de aspas.\n",
        "    - Onde será publicado: {platform.value}.\n",
        "    - Tom: {tone.value}.\n",
        "    - Público-alvo: {audience.value}.\n",
        "    - Comprimento: {length.value}.\n",
        "    - {\"Inclua uma chamada para ação clara.\" if cta.value else \"Não inclua chamada para ação\"}\n",
        "    - {\"Retorne ao final do texto hashtags relevantes.\" if hashtags.value else \"Não inclua hashtags.\"}\n",
        "    {\"- Palavras-chave que devem estar presentes nesse texto (para SEO): \" + keywords.value if keywords.value else \"\"}\n",
        "    \"\"\"\n",
        "    try:\n",
        "      res = llm_generate(llm, prompt)\n",
        "      show_res(res)\n",
        "    except Exception as e:\n",
        "      print(f\"Erro: {e}\")"
      ],
      "metadata": {
        "id": "nV4yxOME8ZnV"
      },
      "execution_count": 136,
      "outputs": []
    },
    {
      "cell_type": "code",
      "source": [
        "output = widgets.Output()\n",
        "generate_button = widgets.Button(description = \"Gerar conteúdo\")\n",
        "generate_button.on_click(generate_result)\n",
        "form = create_form()"
      ],
      "metadata": {
        "id": "RkdoLult8cic"
      },
      "execution_count": 137,
      "outputs": []
    },
    {
      "cell_type": "code",
      "source": [
        "display(form)"
      ],
      "metadata": {
        "colab": {
          "base_uri": "https://localhost:8080/",
          "height": 327,
          "referenced_widgets": [
            "b425d6d17b4d49cf83764b995c299c74",
            "64bf7b86552b4e44be8980b8e3ae8d6e",
            "66bbdf355fa5422eb959a9b83b61e8fc",
            "8183df0fff0c4ebfa01134887f40e8f2",
            "5de2d3d751de4c92a03ae5d1805b8856",
            "283308af08764c5a80b22f9b8d83480a",
            "ce4cdfdad6e349c3b3549620e1ea999b",
            "e129282fbb7d47b688cbc9d2b66d02b3",
            "f8569f6967b84084b9c40baf19460009",
            "dab3ff2b4f064f3cb4226b1bffb6f601",
            "27e3678320fa4d2fb86d23a62774dbc6",
            "e3e4889660b54a308e5ed9e6adb91b58",
            "0f0fe47aae7c42b5a43f73c741a08bfb",
            "8b796770b37c45048f0ac8bbdcf88766",
            "46ce86f0db804773a9530c5dcff31c48",
            "084b5c7cd0df4ee99b2d24ee3fe1b9b8",
            "e04356b0aaa54ac0a4dd0d5c0dffd979",
            "592f424ef22e4ee8a2e114e75249ce00",
            "ca2d68b34e0d4351a376838c1d934ebf",
            "41ffad61dfa6444ca6e6658cf4768916",
            "b4c2633b6c144b6c8e66fbab5ea7a20a",
            "3ca77b61796c44e098f0fa7da80ab3b0",
            "c648888283a6496ab904dda51fc729e7",
            "687ee79bc38545db9e8b423d3fc1ca08",
            "16f52390449f4cec9c8d522acdc3a453",
            "12ad0b292e454d35adc7cef75e3ae72a",
            "bfa93ac54ebf45ae9a4f65e534963866",
            "b43cd34374634b08bc6696b1fb88b1dc",
            "0a4f64fb0f1b443dbaca4440cd2a93bb",
            "6e4b068b932f421aa72f1cda13bd096f",
            "8b00188e799c4a59aeed1e299e397000"
          ]
        },
        "id": "fWGqTNqK8nVE",
        "outputId": "4cd3f3b5-82de-4d32-fae7-b9abb5abf562"
      },
      "execution_count": 138,
      "outputs": [
        {
          "output_type": "display_data",
          "data": {
            "text/plain": [
              "VBox(children=(Text(value='', description='Tema:', layout=Layout(width='500px'), placeholder='Ex: saúde mental…"
            ],
            "application/vnd.jupyter.widget-view+json": {
              "version_major": 2,
              "version_minor": 0,
              "model_id": "b425d6d17b4d49cf83764b995c299c74"
            }
          },
          "metadata": {}
        }
      ]
    },
    {
      "cell_type": "markdown",
      "source": [
        "## Escalando para outras áreas e adicionando mais\n",
        "\n",
        "---\n",
        "\n",
        "campos\n",
        "\n",
        "Para aumentar a flexibilidade na definição das opções dos campos Dropdown, em vez de fixá-las no código, utilizaremos os formulários do Colab com a anotação `@param {type:\"string\"}`. Isso permite que o usuário insira uma lista de valores separados por vírgula diretamente em um campo ao lado da célula de código, que é então convertida em uma lista Python e usada dinamicamente no parâmetro options do widget.\n",
        "\n",
        "Dessa forma, o formulário se torna totalmente configurável, permitindo fácil adição ou modificação das opções dos dropdowns, como as do campo \"comprimento\", sem alterar o código principal.\n"
      ],
      "metadata": {
        "id": "8k2ElsA4_pbN"
      }
    },
    {
      "cell_type": "code",
      "source": [
        "opt_length = \"Curto, Médio, Longo, 1 parágrafo, 1 página\" # @param {type:\"string\"}\n",
        "print(opt_length)"
      ],
      "metadata": {
        "colab": {
          "base_uri": "https://localhost:8080/"
        },
        "id": "sjoa_Ca08u5U",
        "outputId": "83651149-db6c-462d-be65-e64e5b6736de"
      },
      "execution_count": 139,
      "outputs": [
        {
          "output_type": "stream",
          "name": "stdout",
          "text": [
            "Curto, Médio, Longo, 1 parágrafo, 1 página\n"
          ]
        }
      ]
    },
    {
      "cell_type": "code",
      "source": [
        "options_length = [x.strip() for x in opt_length.split(\",\")]"
      ],
      "metadata": {
        "id": "TB3b98X6_ryj"
      },
      "execution_count": 140,
      "outputs": []
    },
    {
      "cell_type": "code",
      "source": [
        "length = widgets.Dropdown(\n",
        "    options = options_length,\n",
        "    description=\"Tamanho\",\n",
        "    layout=widgets.Layout(width=w_dropdown)\n",
        ")"
      ],
      "metadata": {
        "id": "V11N68iT_t0Z"
      },
      "execution_count": 141,
      "outputs": []
    },
    {
      "cell_type": "code",
      "source": [
        "form = create_form()\n",
        "output.clear_output()\n",
        "display(form)"
      ],
      "metadata": {
        "colab": {
          "base_uri": "https://localhost:8080/",
          "height": 327,
          "referenced_widgets": [
            "7f3aec87dc534d2dabfaef8c3d1ab915",
            "64bf7b86552b4e44be8980b8e3ae8d6e",
            "66bbdf355fa5422eb959a9b83b61e8fc",
            "8183df0fff0c4ebfa01134887f40e8f2",
            "439479034eb1436698eefdf995695022",
            "283308af08764c5a80b22f9b8d83480a",
            "ce4cdfdad6e349c3b3549620e1ea999b",
            "e129282fbb7d47b688cbc9d2b66d02b3",
            "f8569f6967b84084b9c40baf19460009",
            "dab3ff2b4f064f3cb4226b1bffb6f601",
            "27e3678320fa4d2fb86d23a62774dbc6",
            "0562ee8e3e92464899de968d18fb6902",
            "0f0fe47aae7c42b5a43f73c741a08bfb",
            "8b796770b37c45048f0ac8bbdcf88766",
            "46ce86f0db804773a9530c5dcff31c48",
            "084b5c7cd0df4ee99b2d24ee3fe1b9b8",
            "e04356b0aaa54ac0a4dd0d5c0dffd979",
            "592f424ef22e4ee8a2e114e75249ce00",
            "a1df2d986af54ce88dfe3bb32b855eb1",
            "52c906e55da74d4280e5c09e4e296588",
            "b4c2633b6c144b6c8e66fbab5ea7a20a",
            "3ca77b61796c44e098f0fa7da80ab3b0",
            "c648888283a6496ab904dda51fc729e7",
            "687ee79bc38545db9e8b423d3fc1ca08",
            "16f52390449f4cec9c8d522acdc3a453",
            "12ad0b292e454d35adc7cef75e3ae72a",
            "bfa93ac54ebf45ae9a4f65e534963866",
            "b43cd34374634b08bc6696b1fb88b1dc",
            "0a4f64fb0f1b443dbaca4440cd2a93bb",
            "6e4b068b932f421aa72f1cda13bd096f",
            "8b00188e799c4a59aeed1e299e397000"
          ]
        },
        "id": "BCVFQP-2_vn3",
        "outputId": "80feff3a-b720-40a5-835c-f3bfa848f5ce"
      },
      "execution_count": 142,
      "outputs": [
        {
          "output_type": "display_data",
          "data": {
            "text/plain": [
              "VBox(children=(Text(value='', description='Tema:', layout=Layout(width='500px'), placeholder='Ex: saúde mental…"
            ],
            "application/vnd.jupyter.widget-view+json": {
              "version_major": 2,
              "version_minor": 0,
              "model_id": "7f3aec87dc534d2dabfaef8c3d1ab915"
            }
          },
          "metadata": {}
        }
      ]
    },
    {
      "cell_type": "markdown",
      "source": [
        "## Construção de interface com Streamlit"
      ],
      "metadata": {
        "id": "JICNNvsvB1ls"
      }
    },
    {
      "cell_type": "markdown",
      "source": [
        "#### 1. Instalação do Streamlit"
      ],
      "metadata": {
        "id": "WovIV8e6B4sm"
      }
    },
    {
      "cell_type": "code",
      "source": [
        "!pip install -q streamlit\n",
        "!npm install -q localtunnel\n",
        "!pip install -q python-dotenv"
      ],
      "metadata": {
        "colab": {
          "base_uri": "https://localhost:8080/"
        },
        "id": "nF57Uka4_1Gx",
        "outputId": "23fc1f90-9f47-484d-cdd0-ff07126e3bcd"
      },
      "execution_count": 143,
      "outputs": [
        {
          "output_type": "stream",
          "name": "stdout",
          "text": [
            "\u001b[1G\u001b[0K⠙\u001b[1G\u001b[0K⠹\u001b[1G\u001b[0K⠸\u001b[1G\u001b[0K⠼\u001b[1G\u001b[0K⠴\u001b[1G\u001b[0K⠦\u001b[1G\u001b[0K⠧\u001b[1G\u001b[0K⠇\u001b[1G\u001b[0K⠏\u001b[1G\u001b[0K⠋\u001b[1G\u001b[0K⠙\u001b[1G\u001b[0K⠹\u001b[1G\u001b[0K⠸\u001b[1G\u001b[0K⠼\u001b[1G\u001b[0K⠴\u001b[1G\u001b[0K⠦\u001b[1G\u001b[0K⠧\u001b[1G\u001b[0K⠇\u001b[1G\u001b[0K⠏\u001b[1G\u001b[0K⠋\u001b[1G\u001b[0K⠙\u001b[1G\u001b[0K⠹\u001b[1G\u001b[0K⠸\u001b[1G\u001b[0K⠼\u001b[1G\u001b[0K\n",
            "up to date, audited 23 packages in 3s\n",
            "\u001b[1G\u001b[0K⠼\u001b[1G\u001b[0K\n",
            "\u001b[1G\u001b[0K⠼\u001b[1G\u001b[0K3 packages are looking for funding\n",
            "\u001b[1G\u001b[0K⠼\u001b[1G\u001b[0K  run `npm fund` for details\n",
            "\u001b[1G\u001b[0K⠼\u001b[1G\u001b[0K\n",
            "2 \u001b[31m\u001b[1mhigh\u001b[22m\u001b[39m severity vulnerabilities\n",
            "\n",
            "To address all issues (including breaking changes), run:\n",
            "  npm audit fix --force\n",
            "\n",
            "Run `npm audit` for details.\n",
            "\u001b[1G\u001b[0K⠼\u001b[1G\u001b[0K"
          ]
        }
      ]
    },
    {
      "cell_type": "markdown",
      "source": [
        "### 2. Criação do arquivo da aplicação\n",
        "\n",
        "Crie um arquivo chamado `app.py` (ou outro nome que preferir) com o conteúdo do seu código adaptado para Streamlit.\n",
        "\n",
        "Antes de colocarmos o código nesse arquivo, vamos criar o arquivo .env, para carregar as variáveis de ambiente. Aqui basta colocarmos a key do Groq, a mesma que usamos anteriormente. Deixe nesse formato: `GROQ_API_KEY=CHAVE_AQUI`\n",
        "\n",
        "* Obs: o comando `%%writefile` no início desse bloco de código permite que a célula do notebook seja salva como um arquivo externo, com o nome especificado. Ou seja, estamos criando um arquivo com esse nome e o conteúdo será tudo a partir da segunda linha do bloco abaixo\n"
      ],
      "metadata": {
        "id": "FDlJJ01VCHlq"
      }
    },
    {
      "cell_type": "code",
      "source": [
        "%%writefile .env\n",
        "GROQ_API_KEY=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"
      ],
      "metadata": {
        "colab": {
          "base_uri": "https://localhost:8080/"
        },
        "id": "m0V80q_wB-WR",
        "outputId": "08ae6571-a89f-4816-eafd-babae617ce28"
      },
      "execution_count": 144,
      "outputs": [
        {
          "output_type": "stream",
          "name": "stdout",
          "text": [
            "Overwriting .env\n"
          ]
        }
      ]
    },
    {
      "cell_type": "code",
      "source": [
        "%%writefile app.py\n",
        "import streamlit as st\n",
        "from langchain_groq import ChatGroq\n",
        "from langchain_core.prompts import ChatPromptTemplate\n",
        "from langchain_core.output_parsers import StrOutputParser\n",
        "from dotenv import load_dotenv\n",
        "load_dotenv()\n",
        "\n",
        "## conexão com a LLM\n",
        "id_model = \"llama3-70b-8192\"\n",
        "llm = ChatGroq(\n",
        "    model=id_model,\n",
        "    temperature=0.7,\n",
        "    max_tokens=None,\n",
        "    timeout=None,\n",
        "    max_retries=2,\n",
        ")\n",
        "\n",
        "## função de geração\n",
        "def llm_generate(llm, prompt):\n",
        "  template = ChatPromptTemplate.from_messages([\n",
        "      (\"system\", \"Você é um especialista em marketing digital com foco em SEO e escrita persuasiva.\"),\n",
        "      (\"human\", \"{prompt}\"),\n",
        "  ])\n",
        "\n",
        "  chain = template | llm | StrOutputParser()\n",
        "\n",
        "  res = chain.invoke({\"prompt\": prompt})\n",
        "  return res\n",
        "\n",
        "st.set_page_config(page_title = \"Gerador de conteúdo 🤖\", page_icon=\"🤖\")\n",
        "st.title(\"Gerador de conteúdo\")\n",
        "\n",
        "# Campos do formulário\n",
        "topic = st.text_input(\"Tema:\", placeholder=\"Ex: saúde mental, alimentação saudável, prevenção, etc.\")\n",
        "platform = st.selectbox(\"Plataforma:\", ['Instagram', 'Facebook', 'LinkedIn', 'Blog', 'E-mail'])\n",
        "tone = st.selectbox(\"Tom:\", ['Normal', 'Informativo', 'Inspirador', 'Urgente', 'Informal'])\n",
        "length = st.selectbox(\"Tamanho:\", ['Curto', 'Médio', 'Longo'])\n",
        "audience = st.selectbox(\"Público-alvo:\", ['Geral', 'Jovens adultos', 'Famílias', 'Idosos', 'Adolescentes'])\n",
        "cta = st.checkbox(\"Incluir CTA\")\n",
        "hashtags = st.checkbox(\"Retornar Hashtags\")\n",
        "keywords = st.text_area(\"Palavras-chave (SEO):\", placeholder=\"Ex: bem-estar, medicina preventiva...\")\n",
        "\n",
        "if st.button(\"Gerar conteúdo\"):\n",
        "  prompt = f\"\"\"\n",
        "  Escreva um texto com SEO otimizado sobre o tema '{topic}'.\n",
        "  Retorne em sua resposta apenas o texto final e não inclua ela dentro de aspas.\n",
        "  - Onde será publicado: {platform}.\n",
        "  - Tom: {tone}.\n",
        "  - Público-alvo: {audience}.\n",
        "  - Comprimento: {length}.\n",
        "  - {\"Inclua uma chamada para ação clara.\" if cta else \"Não inclua chamada para ação\"}\n",
        "  - {\"Retorne ao final do texto hashtags relevantes.\" if hashtags else \"Não inclua hashtags.\"}\n",
        "  {\"- Palavras-chave que devem estar presentes nesse texto (para SEO): \" + keywords if keywords else \"\"}\n",
        "  \"\"\"\n",
        "  try:\n",
        "      res = llm_generate(llm, prompt)\n",
        "      st.markdown(res)\n",
        "  except Exception as e:\n",
        "      st.error(f\"Erro: {e}\")"
      ],
      "metadata": {
        "colab": {
          "base_uri": "https://localhost:8080/"
        },
        "id": "ul7A3BERCcpm",
        "outputId": "bc1726b1-dcca-48fa-b3ec-c98f0e42c22b"
      },
      "execution_count": 145,
      "outputs": [
        {
          "output_type": "stream",
          "name": "stdout",
          "text": [
            "Overwriting app.py\n"
          ]
        }
      ]
    },
    {
      "cell_type": "markdown",
      "source": [
        "### 3. Execução do Streamlit\n",
        "\n",
        "Tendo nosso script pronto, basta executar o comando abaixo para rodar a nossa aplicação pelo streamlit.\n",
        "Isso fará com que a aplicação do Streamlit seja executada em segundo plano."
      ],
      "metadata": {
        "id": "UcPVNZUwC3rU"
      }
    },
    {
      "cell_type": "code",
      "source": [
        "!streamlit run app.py &>/content/logs.txt &"
      ],
      "metadata": {
        "id": "_FXf_HegCbYw"
      },
      "execution_count": 158,
      "outputs": []
    },
    {
      "cell_type": "code",
      "source": [
        "!wget -q -O - ipv4.icanhazip.com\n",
        "!npx localtunnel --port 8501"
      ],
      "metadata": {
        "colab": {
          "base_uri": "https://localhost:8080/"
        },
        "id": "9hDT9OyRDCZr",
        "outputId": "ffa1b2aa-d9ec-4486-b3be-d3aa1b5874d9"
      },
      "execution_count": 159,
      "outputs": [
        {
          "output_type": "stream",
          "name": "stdout",
          "text": [
            "35.194.218.235\n",
            "\u001b[1G\u001b[0K⠙\u001b[1G\u001b[0Kyour url is: https://legal-women-admire.loca.lt\n",
            "^C\n"
          ]
        }
      ]
    },
    {
      "cell_type": "markdown",
      "source": [
        "---\n",
        "\n",
        "## Rodando a LLM localmente\n",
        "\n",
        "Se for um modelo open source nós podemos fazer o download e rodar localmente em um provedor cloud (como nesse caso o colab) ou em nosso próprio computador.\n",
        "\n",
        "\n",
        "\n",
        "\n"
      ],
      "metadata": {
        "id": "6bJwaIlDDVG8"
      }
    },
    {
      "cell_type": "markdown",
      "source": [
        "### -> Para executar no Colab\n",
        "\n",
        "**Importante:** Antes de realizar os próximos passos, mude o ambiente de execução no Colab para usar GPU, que será necessário já que todo o processamento será feito direto localmente no ambiente de execução do Colab. Para isso, selecione 'Ambiente de execução > Alterar o tipo de ambiente de execução' e na opção 'Acelerador de hardware' selecione 'GPU'.\n",
        "\n",
        "Além das bibliotecas do langchain que instalamos, vamos precisar também da biblioteca `langchain-huggingface`, `transformers` e `bitsandbytes`"
      ],
      "metadata": {
        "id": "QPqurhz2DZZw"
      }
    },
    {
      "cell_type": "code",
      "source": [
        "!pip install -q langchain langchain-community langchain-huggingface transformers"
      ],
      "metadata": {
        "id": "tqPYBnGTDCuB"
      },
      "execution_count": 148,
      "outputs": []
    },
    {
      "cell_type": "code",
      "source": [
        "!pip install bitsandbytes-cuda110 bitsandbytes"
      ],
      "metadata": {
        "colab": {
          "base_uri": "https://localhost:8080/"
        },
        "id": "MoV-5r4lDc1h",
        "outputId": "5a14d286-7196-4d15-f969-225e13fd7eff"
      },
      "execution_count": 149,
      "outputs": [
        {
          "output_type": "stream",
          "name": "stdout",
          "text": [
            "Requirement already satisfied: bitsandbytes-cuda110 in /usr/local/lib/python3.11/dist-packages (0.26.0.post2)\n",
            "Requirement already satisfied: bitsandbytes in /usr/local/lib/python3.11/dist-packages (0.46.0)\n",
            "Requirement already satisfied: torch<3,>=2.2 in /usr/local/lib/python3.11/dist-packages (from bitsandbytes) (2.6.0+cu124)\n",
            "Requirement already satisfied: numpy>=1.17 in /usr/local/lib/python3.11/dist-packages (from bitsandbytes) (2.0.2)\n",
            "Requirement already satisfied: filelock in /usr/local/lib/python3.11/dist-packages (from torch<3,>=2.2->bitsandbytes) (3.18.0)\n",
            "Requirement already satisfied: typing-extensions>=4.10.0 in /usr/local/lib/python3.11/dist-packages (from torch<3,>=2.2->bitsandbytes) (4.14.0)\n",
            "Requirement already satisfied: networkx in /usr/local/lib/python3.11/dist-packages (from torch<3,>=2.2->bitsandbytes) (3.5)\n",
            "Requirement already satisfied: jinja2 in /usr/local/lib/python3.11/dist-packages (from torch<3,>=2.2->bitsandbytes) (3.1.6)\n",
            "Requirement already satisfied: fsspec in /usr/local/lib/python3.11/dist-packages (from torch<3,>=2.2->bitsandbytes) (2025.3.2)\n",
            "Requirement already satisfied: nvidia-cuda-nvrtc-cu12==12.4.127 in /usr/local/lib/python3.11/dist-packages (from torch<3,>=2.2->bitsandbytes) (12.4.127)\n",
            "Requirement already satisfied: nvidia-cuda-runtime-cu12==12.4.127 in /usr/local/lib/python3.11/dist-packages (from torch<3,>=2.2->bitsandbytes) (12.4.127)\n",
            "Requirement already satisfied: nvidia-cuda-cupti-cu12==12.4.127 in /usr/local/lib/python3.11/dist-packages (from torch<3,>=2.2->bitsandbytes) (12.4.127)\n",
            "Requirement already satisfied: nvidia-cudnn-cu12==9.1.0.70 in /usr/local/lib/python3.11/dist-packages (from torch<3,>=2.2->bitsandbytes) (9.1.0.70)\n",
            "Requirement already satisfied: nvidia-cublas-cu12==12.4.5.8 in /usr/local/lib/python3.11/dist-packages (from torch<3,>=2.2->bitsandbytes) (12.4.5.8)\n",
            "Requirement already satisfied: nvidia-cufft-cu12==11.2.1.3 in /usr/local/lib/python3.11/dist-packages (from torch<3,>=2.2->bitsandbytes) (11.2.1.3)\n",
            "Requirement already satisfied: nvidia-curand-cu12==10.3.5.147 in /usr/local/lib/python3.11/dist-packages (from torch<3,>=2.2->bitsandbytes) (10.3.5.147)\n",
            "Requirement already satisfied: nvidia-cusolver-cu12==11.6.1.9 in /usr/local/lib/python3.11/dist-packages (from torch<3,>=2.2->bitsandbytes) (11.6.1.9)\n",
            "Requirement already satisfied: nvidia-cusparse-cu12==12.3.1.170 in /usr/local/lib/python3.11/dist-packages (from torch<3,>=2.2->bitsandbytes) (12.3.1.170)\n",
            "Requirement already satisfied: nvidia-cusparselt-cu12==0.6.2 in /usr/local/lib/python3.11/dist-packages (from torch<3,>=2.2->bitsandbytes) (0.6.2)\n",
            "Requirement already satisfied: nvidia-nccl-cu12==2.21.5 in /usr/local/lib/python3.11/dist-packages (from torch<3,>=2.2->bitsandbytes) (2.21.5)\n",
            "Requirement already satisfied: nvidia-nvtx-cu12==12.4.127 in /usr/local/lib/python3.11/dist-packages (from torch<3,>=2.2->bitsandbytes) (12.4.127)\n",
            "Requirement already satisfied: nvidia-nvjitlink-cu12==12.4.127 in /usr/local/lib/python3.11/dist-packages (from torch<3,>=2.2->bitsandbytes) (12.4.127)\n",
            "Requirement already satisfied: triton==3.2.0 in /usr/local/lib/python3.11/dist-packages (from torch<3,>=2.2->bitsandbytes) (3.2.0)\n",
            "Requirement already satisfied: sympy==1.13.1 in /usr/local/lib/python3.11/dist-packages (from torch<3,>=2.2->bitsandbytes) (1.13.1)\n",
            "Requirement already satisfied: mpmath<1.4,>=1.1.0 in /usr/local/lib/python3.11/dist-packages (from sympy==1.13.1->torch<3,>=2.2->bitsandbytes) (1.3.0)\n",
            "Requirement already satisfied: MarkupSafe>=2.0 in /usr/local/lib/python3.11/dist-packages (from jinja2->torch<3,>=2.2->bitsandbytes) (3.0.2)\n"
          ]
        }
      ]
    },
    {
      "cell_type": "code",
      "source": [
        "from langchain_huggingface import HuggingFacePipeline\n",
        "from transformers import AutoModelForCausalLM, AutoTokenizer, pipeline, BitsAndBytesConfig\n",
        "import torch"
      ],
      "metadata": {
        "id": "Y_vQpfIUDfpW"
      },
      "execution_count": 150,
      "outputs": []
    },
    {
      "cell_type": "markdown",
      "source": [
        "**Quantização**\n",
        "\n",
        "A execução de LLMs pode ser desafiadora devido aos recursos limitados, especialmente na versão gratuita do Google Colab. Para contornar essa limitação, além de escolher modelos com menos parâmetros podemos usar técnicas de quantização, como o `BitsAndBytesConfig` da biblioteca `transformers`, que permitem carregar e executar modelos massivos de forma eficiente sem comprometer significativamente o desempenho.\n",
        "* Essas técnicas reduzem os custos de memória e computação ao representar pesos e ativações com tipos de dados de menor precisão, como inteiros de 8 bits (int8) ou até 4 bits, tornando viável o uso de modelos grandes mesmo em hardware limitado.\n",
        "* Alternativas ao BitsAndBytesConfig: AutoGPTQ, AutoAWQ, etc.\n",
        "* Para quem prefere evitar configurações complexas de otimização e manter a máxima qualidade, considere o uso via API.\n",
        "* Mais detalhes sobre quantização: https://huggingface.co/blog/4bit-transformers-bitsandbytes"
      ],
      "metadata": {
        "id": "l1kQqz5wEg-z"
      }
    },
    {
      "cell_type": "code",
      "source": [
        "quantization_config = BitsAndBytesConfig(\n",
        "    load_in_4bit=True,\n",
        "    bnb_4bit_use_double_quant=True,\n",
        "    bnb_4bit_quant_type=\"nf4\",\n",
        "    bnb_4bit_compute_dtype=torch.bfloat16\n",
        ")"
      ],
      "metadata": {
        "id": "nlMYHBwdEeD5"
      },
      "execution_count": 151,
      "outputs": []
    },
    {
      "cell_type": "markdown",
      "source": [
        "**Download do modelo**\n",
        "\n",
        "Agora faremos o download e a configuração de um modelo do HuggingFace usando o método `AutoModelForCausalLM.from_pretrained`. Este processo pode levar alguns minutos, pois o modelo tem alguns GB - mas no geral o download no Colab deve ser relativamente rápido.\n",
        "\n",
        "> Para ver todos os modelos disponíveis no Hugging Face, acesse: https://huggingface.co/models?pipeline_tag=text-generation\n",
        "\n",
        "Escolhemos o Phi 3 (microsoft/Phi-3-mini-4k-instruct), um modelo menor mas que demonstrou ser muito interessante e com ótimo custo benefício\n",
        " - https://huggingface.co/microsoft/Phi-3-mini-4k-instruct\n",
        "\n"
      ],
      "metadata": {
        "id": "yFg4xtEGEtzu"
      }
    },
    {
      "cell_type": "code",
      "source": [],
      "metadata": {
        "id": "EnqYVGNeE3XY"
      },
      "execution_count": 151,
      "outputs": []
    }
  ]
}